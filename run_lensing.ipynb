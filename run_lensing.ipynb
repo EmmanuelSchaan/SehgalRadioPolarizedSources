{
 "cells": [
  {
   "cell_type": "code",
   "execution_count": 1,
   "metadata": {
    "Collapsed": "false"
   },
   "outputs": [
    {
     "name": "stderr",
     "output_type": "stream",
     "text": [
      "┌ Info: Precompiling PtsrcLens [44e3c0cc-451b-45a6-9d84-ed2affe90872]\n",
      "└ @ Base loading.jl:1278\n"
     ]
    }
   ],
   "source": [
    "using DelimitedFiles\n",
    "using PyCall\n",
    "using PyPlot\n",
    "using Random\n",
    "using Setfield\n",
    "using Statistics\n",
    "using ProgressMeter\n",
    "using JLD2\n",
    "using HDF5\n",
    "using FileIO\n",
    "using DataStructures\n",
    "using CUDA\n",
    "using DrWatson\n",
    "\n",
    "using Revise\n",
    "\n",
    "using CMBLensing\n",
    "using PtsrcLens"
   ]
  },
  {
   "cell_type": "markdown",
   "metadata": {},
   "source": [
    "# Parallel setup"
   ]
  },
  {
   "cell_type": "code",
   "execution_count": 2,
   "metadata": {},
   "outputs": [],
   "source": [
    "using Distributed, ClusterManagers\n",
    "cluster_cookie(\"marius\")\n",
    "em = ElasticManager(addr=:auto, port=9312);"
   ]
  },
  {
   "cell_type": "code",
   "execution_count": 5,
   "metadata": {},
   "outputs": [
    {
     "data": {
      "text/plain": [
       "ElasticManager:\n",
       "  Active workers : [ 2,3,4,5,6,7,8,9]\n",
       "  Number of workers to be added  : 0\n",
       "  Terminated workers : []\n",
       "  Worker connect command : \n",
       "    /global/home/users/mariusmillea/src/julia-1.5.2/bin/julia --project=/global/home/users/mariusmillea/work/ptsrclens/Project.toml -e 'using ClusterManagers; ClusterManagers.elastic_worker(\"marius          \",\"10.0.0.24\",9312)'"
      ]
     },
     "execution_count": 5,
     "metadata": {},
     "output_type": "execute_result"
    }
   ],
   "source": [
    "em"
   ]
  },
  {
   "cell_type": "code",
   "execution_count": 6,
   "metadata": {},
   "outputs": [],
   "source": [
    "@everywhere using CUDA, CMBLensing, PtsrcLens"
   ]
  },
  {
   "cell_type": "code",
   "execution_count": 7,
   "metadata": {},
   "outputs": [],
   "source": [
    "CMBLensing.assign_GPU_workers()"
   ]
  },
  {
   "cell_type": "code",
   "execution_count": 8,
   "metadata": {},
   "outputs": [
    {
     "name": "stdout",
     "output_type": "stream",
     "text": [
      "      From worker 2:\tn0017.savio2::CuDevice(0)\n",
      "      From worker 3:\tn0017.savio2::CuDevice(1)\n",
      "      From worker 4:\tn0017.savio2::CuDevice(2)\n",
      "      From worker 5:\tn0017.savio2::CuDevice(3)\n",
      "      From worker 6:\tn0018.savio2::CuDevice(0)\n",
      "      From worker 7:\tn0018.savio2::CuDevice(1)\n",
      "      From worker 8:\tn0018.savio2::CuDevice(2)\n",
      "      From worker 9:\tn0018.savio2::CuDevice(3)\n"
     ]
    }
   ],
   "source": [
    "for i in workers()\n",
    "    @fetchfrom i println(gethostname(),\"::\",device())\n",
    "end"
   ]
  },
  {
   "cell_type": "markdown",
   "metadata": {
    "Collapsed": "false"
   },
   "source": [
    "# Load files"
   ]
  },
  {
   "cell_type": "code",
   "execution_count": 45,
   "metadata": {},
   "outputs": [
    {
     "name": "stderr",
     "output_type": "stream",
     "text": [
      "\u001b[32mProgress: 100%|█████████████████████████████████████████| Time: 0:00:19\u001b[39m\n",
      "\u001b[32mProgress: 100%|█████████████████████████████████████████| Time: 0:00:10\u001b[39m\n",
      "\u001b[32mProgress: 100%|█████████████████████████████████████████| Time: 0:00:10\u001b[39m\n",
      "\u001b[32mProgress: 100%|█████████████████████████████████████████| Time: 0:01:32\u001b[39m\n",
      "\u001b[32mProgress: 100%|█████████████████████████████████████████| Time: 0:00:00\u001b[39m\n",
      "\u001b[32mProgress: 100%|█████████████████████████████████████████| Time: 0:00:05\u001b[39m\n",
      "\u001b[32mProgress: 100%|█████████████████████████████████████████| Time: 0:00:05\u001b[39m\n",
      "\u001b[32mProgress: 100%|█████████████████████████████████████████| Time: 0:00:02\u001b[39m\n",
      "\u001b[32mProgress: 100%|█████████████████████████████████████████| Time: 0:00:05\u001b[39m\n",
      "\u001b[32mProgress: 100%|█████████████████████████████████████████| Time: 0:00:05\u001b[39m\n",
      "\u001b[32mProgress: 100%|█████████████████████████████████████████| Time: 0:00:04\u001b[39m\n",
      "\u001b[32mProgress: 100%|█████████████████████████████████████████| Time: 0:00:05\u001b[39m\n",
      "\u001b[32mProgress: 100%|█████████████████████████████████████████| Time: 0:00:05\u001b[39m\n",
      "\u001b[32mProgress: 100%|█████████████████████████████████████████| Time: 0:00:05\u001b[39m\n",
      "\u001b[32mProgress: 100%|█████████████████████████████████████████| Time: 0:00:05\u001b[39m\n"
     ]
    }
   ],
   "source": [
    "@unpack (ϕs, κs, gs_ir, gs_radio, Ms_radio) = load_hdf5_cutouts();"
   ]
  },
  {
   "cell_type": "code",
   "execution_count": 179,
   "metadata": {},
   "outputs": [],
   "source": [
    "@save \"data/sehgal_maps_h5/cutouts.jld2\" ϕs κs gs_ir gs_radio Ms_radio;"
   ]
  },
  {
   "cell_type": "markdown",
   "metadata": {},
   "source": [
    "## Load pre-processed"
   ]
  },
  {
   "cell_type": "code",
   "execution_count": 46,
   "metadata": {},
   "outputs": [
    {
     "data": {
      "text/plain": [
       "5-element Array{Symbol,1}:\n",
       " :ϕs\n",
       " :κs\n",
       " :gs_ir\n",
       " :gs_radio\n",
       " :Ms_radio"
      ]
     },
     "execution_count": 46,
     "metadata": {},
     "output_type": "execute_result"
    }
   ],
   "source": [
    "@load \"data/sehgal_maps_h5/cutouts.jld2\""
   ]
  },
  {
   "cell_type": "markdown",
   "metadata": {
    "Collapsed": "false"
   },
   "source": [
    "# Check power"
   ]
  },
  {
   "cell_type": "code",
   "execution_count": 47,
   "metadata": {},
   "outputs": [],
   "source": [
    "@unpack (μKarcmin_gs_radio, μKarcmin_gs_ir) = get_foreground_whitenoise_level(;Ms_radio, gs_radio, gs_ir);"
   ]
  },
  {
   "cell_type": "code",
   "execution_count": 48,
   "metadata": {
    "Collapsed": "false"
   },
   "outputs": [
    {
     "data": {
      "text/plain": [
       "OrderedDict{Tuple{Symbol,Int64,Real},Union{Nothing, Float64}} with 16 entries:\n",
       "  (:deep, 90, 2)    => nothing\n",
       "  (:deep, 90, 5)    => nothing\n",
       "  (:deep, 90, 10)   => 0.183897\n",
       "  (:deep, 90, Inf)  => 1.46472\n",
       "  (:deep, 148, 2)   => 0.0346629\n",
       "  (:deep, 148, 5)   => 0.0579392\n",
       "  (:deep, 148, 10)  => 0.080185\n",
       "  (:deep, 148, Inf) => 0.632798\n",
       "  (:wide, 90, 2)    => 0.0752406\n",
       "  (:wide, 90, 5)    => 0.131259\n",
       "  (:wide, 90, 10)   => 0.185232\n",
       "  (:wide, 90, Inf)  => 1.46472\n",
       "  (:wide, 148, 2)   => nothing\n",
       "  (:wide, 148, 5)   => nothing\n",
       "  (:wide, 148, 10)  => 0.0824392\n",
       "  (:wide, 148, Inf) => 0.632798"
      ]
     },
     "execution_count": 48,
     "metadata": {},
     "output_type": "execute_result"
    }
   ],
   "source": [
    "μKarcmin_gs_radio"
   ]
  },
  {
   "cell_type": "code",
   "execution_count": 49,
   "metadata": {
    "Collapsed": "false"
   },
   "outputs": [
    {
     "name": "stdout",
     "output_type": "stream",
     "text": [
      "\\begin{tabular}{lrrrr}\n",
      "\\toprule\n",
      "{} &  inf  &  10.0 &  2.0  &  5.0  \\\\\n",
      "\\midrule\n",
      "148 &  0.63 &  0.08 &  0.03 &  0.06 \\\\\n",
      "90  &  1.46 &  0.19 &  0.08 &  0.13 \\\\\n",
      "\\bottomrule\n",
      "\\end{tabular}\n",
      "\n"
     ]
    },
    {
     "data": {
      "text/html": [
       "<div>\n",
       "<style scoped>\n",
       "    .dataframe tbody tr th:only-of-type {\n",
       "        vertical-align: middle;\n",
       "    }\n",
       "\n",
       "    .dataframe tbody tr th {\n",
       "        vertical-align: top;\n",
       "    }\n",
       "\n",
       "    .dataframe thead th {\n",
       "        text-align: right;\n",
       "    }\n",
       "</style>\n",
       "<table border=\"1\" class=\"dataframe\">\n",
       "  <thead>\n",
       "    <tr style=\"text-align: right;\">\n",
       "      <th></th>\n",
       "      <th>inf</th>\n",
       "      <th>10.0</th>\n",
       "      <th>2.0</th>\n",
       "      <th>5.0</th>\n",
       "    </tr>\n",
       "  </thead>\n",
       "  <tbody>\n",
       "    <tr>\n",
       "      <th>148</th>\n",
       "      <td>0.632798</td>\n",
       "      <td>0.080185</td>\n",
       "      <td>0.034663</td>\n",
       "      <td>0.057939</td>\n",
       "    </tr>\n",
       "    <tr>\n",
       "      <th>90</th>\n",
       "      <td>1.464721</td>\n",
       "      <td>0.185232</td>\n",
       "      <td>0.075241</td>\n",
       "      <td>0.131259</td>\n",
       "    </tr>\n",
       "  </tbody>\n",
       "</table>\n",
       "</div>"
      ],
      "text/plain": [
       "PyObject          inf       10.0      2.0       5.0 \n",
       "148  0.632798  0.080185  0.034663  0.057939\n",
       "90   1.464721  0.185232  0.075241  0.131259"
      ]
     },
     "execution_count": 49,
     "metadata": {},
     "output_type": "execute_result"
    }
   ],
   "source": [
    "tab = pyimport(\"pandas\").DataFrame(Dict(\n",
    "    148 => Dict(fluxcut => μKarcmin_gs_radio[:deep,148,fluxcut] for fluxcut in [Inf,10,5,2]),\n",
    "    90  => Dict(fluxcut => μKarcmin_gs_radio[:wide,90, fluxcut] for fluxcut in [Inf,10,5,2]),\n",
    ")).T\n",
    "println(tab.to_latex(float_format=\"%.2f\"))\n",
    "tab"
   ]
  },
  {
   "cell_type": "code",
   "execution_count": 50,
   "metadata": {
    "Collapsed": "false"
   },
   "outputs": [
    {
     "data": {
      "text/plain": [
       "Dict{Int64,Float64} with 1 entry:\n",
       "  148 => 0.0740397"
      ]
     },
     "execution_count": 50,
     "metadata": {},
     "output_type": "execute_result"
    }
   ],
   "source": [
    "μKarcmin_gs_ir"
   ]
  },
  {
   "cell_type": "markdown",
   "metadata": {
    "Collapsed": "false"
   },
   "source": [
    "# Reconstruct"
   ]
  },
  {
   "cell_type": "code",
   "execution_count": 10,
   "metadata": {},
   "outputs": [],
   "source": [
    "ℓedges = [2:100:500; round.(Int, 10 .^ range(log10(502), log10(6000), length=10))];"
   ]
  },
  {
   "cell_type": "code",
   "execution_count": 11,
   "metadata": {},
   "outputs": [],
   "source": [
    "noises = Dict(\n",
    "    (:deep, 90)  => (μKarcminT=0.68/√2, beamFWHM=2.3, ℓknee=200, αknee=2),\n",
    "    (:wide, 90)  => (μKarcminT=2.9/√2,  beamFWHM=2.2, ℓknee=700, αknee=1.4),\n",
    "    (:deep, 148) => (μKarcminT=0.96/√2, beamFWHM=1.5, ℓknee=200, αknee=2),\n",
    "    (:wide, 148) => (μKarcminT=2.8/√2,  beamFWHM=1.4, ℓknee=700, αknee=1.4),\n",
    ");"
   ]
  },
  {
   "cell_type": "code",
   "execution_count": 9,
   "metadata": {},
   "outputs": [],
   "source": [
    "ℓmax_datas = [3000, 5000]\n",
    "polfrac_scales = [1]\n",
    "freqs = [90, 148]\n",
    "surveys = [:deep, :wide];"
   ]
  },
  {
   "cell_type": "code",
   "execution_count": null,
   "metadata": {},
   "outputs": [],
   "source": [
    "PtsrcLens.main_MAP_grid(;surveys,freqs,ℓmax_datas,fluxcuts=[5],polfrac_scales=[1])"
   ]
  }
 ],
 "metadata": {
  "kernelspec": {
   "display_name": "Julia 1.5.2",
   "language": "julia",
   "name": "julia-1.5"
  },
  "language_info": {
   "file_extension": ".jl",
   "mimetype": "application/julia",
   "name": "julia",
   "version": "1.5.2"
  }
 },
 "nbformat": 4,
 "nbformat_minor": 4
}
