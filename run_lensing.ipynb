{
 "cells": [
  {
   "cell_type": "code",
   "execution_count": 1,
   "metadata": {
    "Collapsed": "false"
   },
   "outputs": [
    {
     "name": "stderr",
     "output_type": "stream",
     "text": [
      "┌ Info: Precompiling CMBLensing [b60c06c0-7e54-11e8-3788-4bd722d65317]\n",
      "└ @ Base loading.jl:1278\n"
     ]
    }
   ],
   "source": [
    "using DelimitedFiles\n",
    "using PyCall\n",
    "using PyPlot\n",
    "using Random\n",
    "using Setfield\n",
    "using Statistics\n",
    "using ProgressMeter\n",
    "using JLD2\n",
    "using HDF5\n",
    "using Printf\n",
    "using FileIO\n",
    "using DataStructures\n",
    "using CUDA\n",
    "using DrWatson\n",
    "\n",
    "using Revise\n",
    "\n",
    "using CMBLensing"
   ]
  },
  {
   "cell_type": "code",
   "execution_count": 2,
   "metadata": {
    "Collapsed": "false"
   },
   "outputs": [],
   "source": [
    "Cℓ = camb(ωb=0.02268, ωc=0.1081, nₛ=0.961, H0=72.4, θs=nothing, logA=log(2.41*10), k_pivot=0.05, ℓmax=10000);"
   ]
  },
  {
   "cell_type": "markdown",
   "metadata": {},
   "source": [
    "# Parallel setup"
   ]
  },
  {
   "cell_type": "code",
   "execution_count": 132,
   "metadata": {},
   "outputs": [],
   "source": [
    "using Distributed, ClusterManagers\n",
    "cluster_cookie(\"marius\")\n",
    "em = ElasticManager(addr=:auto, port=9312);"
   ]
  },
  {
   "cell_type": "code",
   "execution_count": 133,
   "metadata": {},
   "outputs": [
    {
     "data": {
      "text/plain": [
       "ElasticManager:\n",
       "  Active workers : []\n",
       "  Number of workers to be added  : 0\n",
       "  Terminated workers : []\n",
       "  Worker connect command : \n",
       "    /global/home/users/mariusmillea/src/julia-1.5.2/bin/julia --project=/global/home/users/mariusmillea/work/ptsrclens/Project.toml -e 'using ClusterManagers; ClusterManagers.elastic_worker(\"marius          \",\"10.0.0.24\",9312)'"
      ]
     },
     "execution_count": 133,
     "metadata": {},
     "output_type": "execute_result"
    }
   ],
   "source": [
    "em"
   ]
  },
  {
   "cell_type": "code",
   "execution_count": 8,
   "metadata": {},
   "outputs": [],
   "source": [
    "@everywhere using CUDA, CMBLensing"
   ]
  },
  {
   "cell_type": "code",
   "execution_count": 9,
   "metadata": {},
   "outputs": [],
   "source": [
    "CMBLensing.assign_GPU_workers()"
   ]
  },
  {
   "cell_type": "code",
   "execution_count": 251,
   "metadata": {},
   "outputs": [],
   "source": [
    "@everywhere workers() device!(mod(myid()-26,4))"
   ]
  },
  {
   "cell_type": "code",
   "execution_count": 10,
   "metadata": {},
   "outputs": [
    {
     "name": "stdout",
     "output_type": "stream",
     "text": [
      "      From worker 2:\tn0302.savio2::CuDevice(0)\n",
      "      From worker 3:\tn0302.savio2::CuDevice(1)\n",
      "      From worker 4:\tn0302.savio2::CuDevice(2)\n",
      "      From worker 5:\tn0302.savio2::CuDevice(3)\n",
      "      From worker 6:\tn0299.savio2::CuDevice(0)\n",
      "      From worker 7:\tn0299.savio2::CuDevice(1)\n",
      "      From worker 8:\tn0299.savio2::CuDevice(2)\n",
      "      From worker 9:\tn0299.savio2::CuDevice(3)\n"
     ]
    }
   ],
   "source": [
    "for i in workers()\n",
    "    @fetchfrom i println(gethostname(),\"::\",device())\n",
    "end"
   ]
  },
  {
   "cell_type": "markdown",
   "metadata": {
    "Collapsed": "false"
   },
   "source": [
    "# Load files"
   ]
  },
  {
   "cell_type": "code",
   "execution_count": 3,
   "metadata": {},
   "outputs": [],
   "source": [
    "sims = 1:40;"
   ]
  },
  {
   "cell_type": "code",
   "execution_count": 58,
   "metadata": {},
   "outputs": [],
   "source": [
    "fluxcuts = (2, 5, 10, Inf);"
   ]
  },
  {
   "cell_type": "markdown",
   "metadata": {},
   "source": [
    "## Load originals"
   ]
  },
  {
   "cell_type": "code",
   "execution_count": 7,
   "metadata": {
    "Collapsed": "false"
   },
   "outputs": [
    {
     "name": "stderr",
     "output_type": "stream",
     "text": [
      "\u001b[32mProgress: 100%|█████████████████████████████████████████| Time: 0:00:12\u001b[39m\n"
     ]
    }
   ],
   "source": [
    "κs = @showprogress map(sims) do i\n",
    "    ud_grade(FlatMap(h5read(\"dat/sehgal_maps_h5/radio_sources/cutouts/kappa_sehgal_patch$i.h5\",\"map\"), θpix=1//2), 2)\n",
    "end\n",
    "\n",
    "ϕs = map(κs) do κ\n",
    "    -2*(∇²\\κ)\n",
    "end;"
   ]
  },
  {
   "cell_type": "code",
   "execution_count": 8,
   "metadata": {
    "Collapsed": "false"
   },
   "outputs": [
    {
     "name": "stderr",
     "output_type": "stream",
     "text": [
      "\u001b[32mProgress: 100%|█████████████████████████████████████████| Time: 0:00:16\u001b[39m\n",
      "\u001b[32mProgress: 100%|█████████████████████████████████████████| Time: 0:00:14\u001b[39m\n"
     ]
    }
   ],
   "source": [
    "gs_radio = Dict(map([90,148]) do freq\n",
    "    freq => @showprogress map(sims) do i \n",
    "        ud_grade(\n",
    "            FlatQUMap((h5read(\"dat/sehgal_maps_h5/radio_sources/cutouts/ps_sehgal_$(freq)ghz_$(pol)_patch$i.h5\", \"map\") for pol in \"QU\")..., θpix=1//2), \n",
    "            2, \n",
    "            anti_aliasing=false, \n",
    "            deconv_pixwin=false\n",
    "        )\n",
    "    end\n",
    "end);"
   ]
  },
  {
   "cell_type": "code",
   "execution_count": 25,
   "metadata": {
    "Collapsed": "false"
   },
   "outputs": [
    {
     "name": "stderr",
     "output_type": "stream",
     "text": [
      "\u001b[32mProgress: 100%|█████████████████████████████████████████| Time: 0:02:14\u001b[39m\n"
     ]
    }
   ],
   "source": [
    "gs_ir = Dict(148 => @showprogress map(sims) do sim\n",
    "    mapreduce(+, [\"gal_S_$(S)\" for S=1:9]) do bin\n",
    "        ud_grade(\n",
    "            FlatQUMap((Float32.(h5read(\"dat/sehgal_maps_h5/ir_sources/cutouts/ir_IR$(bin)_sehgal_$(pol)_patch$(sim).h5\", \"map\")) for pol=\"QU\")..., θpix=1//2), 2,\n",
    "            anti_aliasing=false, deconv_pixwin=false\n",
    "        )\n",
    "    end\n",
    "end);"
   ]
  },
  {
   "cell_type": "code",
   "execution_count": 9,
   "metadata": {},
   "outputs": [],
   "source": [
    "surveykeys = Dict(\n",
    "    (90, :deep) => \"beam2.3_noise0.48_lknee200_aknee2.0\",\n",
    "    (90, :wide) => \"beam2.2_noise2.0_lknee700_aknee1.4\",\n",
    "    (148,:deep) => \"beam1.5_noise0.68_lknee200_aknee2.0\",\n",
    "    (148,:wide) => \"beam1.4_noise2.0_lknee700_aknee1.4\"\n",
    ");"
   ]
  },
  {
   "cell_type": "code",
   "execution_count": 10,
   "metadata": {},
   "outputs": [
    {
     "name": "stderr",
     "output_type": "stream",
     "text": [
      "\u001b[32mProgress: 100%|█████████████████████████████████████████| Time: 0:00:00\u001b[39m\n",
      "\u001b[32mProgress: 100%|█████████████████████████████████████████| Time: 0:00:07\u001b[39m\n",
      "\u001b[32mProgress: 100%|█████████████████████████████████████████| Time: 0:00:08\u001b[39m\n",
      "\u001b[32mProgress: 100%|█████████████████████████████████████████| Time: 0:00:03\u001b[39m\n",
      "\u001b[32mProgress: 100%|█████████████████████████████████████████| Time: 0:00:07\u001b[39m\n",
      "\u001b[32mProgress: 100%|█████████████████████████████████████████| Time: 0:00:07\u001b[39m\n",
      "\u001b[32mProgress: 100%|█████████████████████████████████████████| Time: 0:00:07\u001b[39m\n",
      "\u001b[32mProgress: 100%|█████████████████████████████████████████| Time: 0:00:07\u001b[39m\n",
      "\u001b[32mProgress: 100%|█████████████████████████████████████████| Time: 0:00:08\u001b[39m\n",
      "\u001b[32mProgress: 100%|█████████████████████████████████████████| Time: 0:00:07\u001b[39m\n",
      "\u001b[32mProgress: 100%|█████████████████████████████████████████| Time: 0:00:07\u001b[39m\n"
     ]
    }
   ],
   "source": [
    "Ms_radio = Dict(map(Iterators.product([:deep,:wide],[90,148],fluxcuts)) do (survey,freq,fluxcut)\n",
    "    (survey,freq,fluxcut) => if fluxcut == Inf\n",
    "        one.(sims)\n",
    "    else\n",
    "        @showprogress map(sims) do i\n",
    "            filename = \"dat/sehgal_maps_h5/radio_sources/cutouts/ps_mask_$(freq)ghz_$(fluxcut)mJy_$(surveykeys[freq,survey])_T_patch$(i).h5\"\n",
    "            if isfile(filename)\n",
    "                M = ud_grade(FlatMap(Float32.(h5read(filename,\"map\")),θpix=1//2), 2, anti_aliasing=false, deconv_pixwin=false)\n",
    "                Diagonal(FlatQUMap(M,M))\n",
    "            else\n",
    "                nothing\n",
    "            end\n",
    "        end\n",
    "    end\n",
    "end);"
   ]
  },
  {
   "cell_type": "code",
   "execution_count": 28,
   "metadata": {},
   "outputs": [],
   "source": [
    "@save \"dat/sehgal_maps_h5/cutouts.jld2\" ϕs κs gs_ir gs_radio Ms_radio;"
   ]
  },
  {
   "cell_type": "markdown",
   "metadata": {},
   "source": [
    "## Load pre-processed"
   ]
  },
  {
   "cell_type": "code",
   "execution_count": 30,
   "metadata": {},
   "outputs": [
    {
     "data": {
      "text/plain": [
       "5-element Array{Symbol,1}:\n",
       " :ϕs\n",
       " :κs\n",
       " :gs_ir\n",
       " :gs_radio\n",
       " :Ms_radio"
      ]
     },
     "execution_count": 30,
     "metadata": {},
     "output_type": "execute_result"
    }
   ],
   "source": [
    "@load \"dat/sehgal_maps_h5/cutouts.jld2\""
   ]
  },
  {
   "cell_type": "code",
   "execution_count": 31,
   "metadata": {},
   "outputs": [],
   "source": [
    "# ϕs = cu.(ϕs)\n",
    "# κs = cu.(κs)\n",
    "# gs_ir = cu.(gs_ir)\n",
    "# gs_radio = cu.(gs_radio)\n",
    "# Ms_radio = Dict(2 => cu.(Ms_radio[2]), 5 => cu.(Ms_radio[5]), 10 => cu.(Ms_radio[10]), Inf => Ms_radio[Inf]);"
   ]
  },
  {
   "cell_type": "markdown",
   "metadata": {
    "Collapsed": "false"
   },
   "source": [
    "# Check power"
   ]
  },
  {
   "cell_type": "code",
   "execution_count": 32,
   "metadata": {
    "Collapsed": "false"
   },
   "outputs": [
    {
     "data": {
      "text/plain": [
       "OrderedDict{Tuple{Symbol,Int64,Real},Union{Nothing, Float64}} with 16 entries:\n",
       "  (:deep, 90, 2)    => nothing\n",
       "  (:deep, 90, 5)    => nothing\n",
       "  (:deep, 90, 10)   => 0.183897\n",
       "  (:deep, 90, Inf)  => 1.46472\n",
       "  (:deep, 148, 2)   => 0.0346629\n",
       "  (:deep, 148, 5)   => 0.0579392\n",
       "  (:deep, 148, 10)  => 0.080185\n",
       "  (:deep, 148, Inf) => 0.632798\n",
       "  (:wide, 90, 2)    => 0.0752406\n",
       "  (:wide, 90, 5)    => 0.131259\n",
       "  (:wide, 90, 10)   => 0.185232\n",
       "  (:wide, 90, Inf)  => 1.46472\n",
       "  (:wide, 148, 2)   => nothing\n",
       "  (:wide, 148, 5)   => nothing\n",
       "  (:wide, 148, 10)  => 0.0824392\n",
       "  (:wide, 148, Inf) => 0.632798"
      ]
     },
     "execution_count": 32,
     "metadata": {},
     "output_type": "execute_result"
    }
   ],
   "source": [
    "μKarcmin_gs_radio = sort(Dict(map(collect(Ms_radio)) do ((survey,freq,fluxcut), Ms)\n",
    "    (survey,freq,fluxcut) => if !(nothing in Ms)\n",
    "        mean(sims) do i\n",
    "            sqrt(mean(get_Cℓ(Ms[i] * gs_radio[freq][i], which=:QQ)[1000:2000]) / deg2rad(1/60)^2)\n",
    "        end\n",
    "    end\n",
    "end))"
   ]
  },
  {
   "cell_type": "code",
   "execution_count": 33,
   "metadata": {
    "Collapsed": "false"
   },
   "outputs": [
    {
     "name": "stdout",
     "output_type": "stream",
     "text": [
      "\\begin{tabular}{lrrrr}\n",
      "\\toprule\n",
      "{} &  inf  &  10.0 &  2.0  &  5.0  \\\\\n",
      "\\midrule\n",
      "148 &  0.63 &  0.08 &  0.03 &  0.06 \\\\\n",
      "90  &  1.46 &  0.19 &  0.08 &  0.13 \\\\\n",
      "\\bottomrule\n",
      "\\end{tabular}\n",
      "\n"
     ]
    },
    {
     "data": {
      "text/html": [
       "<div>\n",
       "<style scoped>\n",
       "    .dataframe tbody tr th:only-of-type {\n",
       "        vertical-align: middle;\n",
       "    }\n",
       "\n",
       "    .dataframe tbody tr th {\n",
       "        vertical-align: top;\n",
       "    }\n",
       "\n",
       "    .dataframe thead th {\n",
       "        text-align: right;\n",
       "    }\n",
       "</style>\n",
       "<table border=\"1\" class=\"dataframe\">\n",
       "  <thead>\n",
       "    <tr style=\"text-align: right;\">\n",
       "      <th></th>\n",
       "      <th>inf</th>\n",
       "      <th>10.0</th>\n",
       "      <th>2.0</th>\n",
       "      <th>5.0</th>\n",
       "    </tr>\n",
       "  </thead>\n",
       "  <tbody>\n",
       "    <tr>\n",
       "      <th>148</th>\n",
       "      <td>0.632798</td>\n",
       "      <td>0.080185</td>\n",
       "      <td>0.034663</td>\n",
       "      <td>0.057939</td>\n",
       "    </tr>\n",
       "    <tr>\n",
       "      <th>90</th>\n",
       "      <td>1.464721</td>\n",
       "      <td>0.185232</td>\n",
       "      <td>0.075241</td>\n",
       "      <td>0.131259</td>\n",
       "    </tr>\n",
       "  </tbody>\n",
       "</table>\n",
       "</div>"
      ],
      "text/plain": [
       "PyObject          inf       10.0      2.0       5.0 \n",
       "148  0.632798  0.080185  0.034663  0.057939\n",
       "90   1.464721  0.185232  0.075241  0.131259"
      ]
     },
     "execution_count": 33,
     "metadata": {},
     "output_type": "execute_result"
    }
   ],
   "source": [
    "tab = pyimport(\"pandas\").DataFrame(Dict(\n",
    "    148 => Dict(fluxcut => μKarcmin_gs_radio[:deep,148,fluxcut] for fluxcut in [Inf,10,5,2]),\n",
    "    90  => Dict(fluxcut => μKarcmin_gs_radio[:wide,90, fluxcut] for fluxcut in [Inf,10,5,2]),\n",
    ")).T\n",
    "println(tab.to_latex(float_format=\"%.2f\"))\n",
    "tab"
   ]
  },
  {
   "cell_type": "code",
   "execution_count": 34,
   "metadata": {
    "Collapsed": "false"
   },
   "outputs": [
    {
     "data": {
      "text/plain": [
       "Dict{Int64,Float64} with 1 entry:\n",
       "  148 => 0.0740397"
      ]
     },
     "execution_count": 34,
     "metadata": {},
     "output_type": "execute_result"
    }
   ],
   "source": [
    "μKarcmin_gs_ir = Dict(148 => mean(sims) do i\n",
    "    sqrt(mean(get_Cℓ(gs_ir[148][i], which=:QQ)[1000:2000]) / deg2rad(1/60)^2)\n",
    "end)"
   ]
  },
  {
   "cell_type": "code",
   "execution_count": 35,
   "metadata": {},
   "outputs": [],
   "source": [
    "LP = LowPass(1100,Δℓ=200).diag.Wℓ\n",
    "HP = HighPass(901,Δℓ=200).diag.Wℓ\n",
    "Cℓϕϕ = CMBLensing.extrapolate_Cℓs(\n",
    "    2:10000, \n",
    "    2:6000, \n",
    "    nan2zero.((LP * Cℓ.total.ϕϕ)[2:6000]) + nan2zero.((HP * CMBLensing.smooth(mean(get_Cℓ(ϕ) for ϕ in ϕs), xscale=:log, yscale=:log))[2:6000])\n",
    ");"
   ]
  },
  {
   "cell_type": "code",
   "execution_count": 36,
   "metadata": {
    "Collapsed": "false"
   },
   "outputs": [
    {
     "data": {
      "image/png": "[encoded data removed]",
      "text/plain": [
       "Figure(PyObject <Figure size 640x480 with 1 Axes>)"
      ]
     },
     "metadata": {},
     "output_type": "display_data"
    },
    {
     "data": {
      "text/plain": [
       "1-element Array{PyObject,1}:\n",
       " PyObject <matplotlib.lines.Line2D object at 0x2ab8ce499c90>"
      ]
     },
     "execution_count": 36,
     "metadata": {},
     "output_type": "execute_result"
    }
   ],
   "source": [
    "loglog(ℓ⁴*Cℓϕϕ,\"k\")\n",
    "loglog(ℓ⁴*Cℓ.total.ϕϕ,\"k--\")\n",
    "loglog(mean(get_ℓ⁴Cℓ(ϕ) for ϕ in ϕs))"
   ]
  },
  {
   "cell_type": "code",
   "execution_count": 37,
   "metadata": {},
   "outputs": [],
   "source": [
    "@set! Cℓ.total.ϕϕ = Cℓϕϕ;"
   ]
  },
  {
   "cell_type": "code",
   "execution_count": 21,
   "metadata": {},
   "outputs": [],
   "source": [
    "# @save \"Cl.jld2\" Cℓ"
   ]
  },
  {
   "cell_type": "markdown",
   "metadata": {
    "Collapsed": "false"
   },
   "source": [
    "# Reconstruct"
   ]
  },
  {
   "cell_type": "code",
   "execution_count": 134,
   "metadata": {},
   "outputs": [
    {
     "data": {
      "text/plain": [
       "get_MAPs (generic function with 1 method)"
      ]
     },
     "execution_count": 134,
     "metadata": {},
     "output_type": "execute_result"
    }
   ],
   "source": [
    "function get_MAPs(;Ms, gs, ϕs, noise_kwargs, ℓmax_data, fluxcut, polfrac_scale, ℓedges, μKarcmin_g, Nbatch=16, MAPs=nothing)\n",
    "        \n",
    "    @unpack ds = load_sim_dataset(;\n",
    "        Cℓ = Cℓ,\n",
    "        θpix = 2,\n",
    "        Nside = 300,\n",
    "        pol = :P,\n",
    "        bandpass_mask = LowPass(ℓmax_data),\n",
    "        Nbatch = Nbatch,\n",
    "        noise_kwargs...\n",
    "    )\n",
    "    @unpack B = ds\n",
    "    ds.Cϕ = Cℓ_to_Cov(ϕs[1], (Cℓ.total.ϕϕ, ℓedges, :Aϕ));\n",
    "\n",
    "    μKarcmin_g = mean(sqrt(mean(get_Cℓ(Ms[fluxcut][i] * gs[i], which=:QQ)[1000:2000]) / deg2rad(1/60)^2) for i=sims)\n",
    "    Cℓg = noiseCℓs(μKarcminT=polfrac_scale*μKarcmin_g/√2, beamFWHM=0, ℓknee=0)\n",
    "    Cg = Cℓ_to_Cov(Flat(Nside=300, θpix=2), Float32, S2, Cℓg.EE, Cℓg.BB)\n",
    "    \n",
    "    @showprogress pmap(sims) do sim\n",
    "\n",
    "        sim′ = mod(sim,maximum(sims))+1\n",
    "\n",
    "        Dict(map([\n",
    "\n",
    "            (:nofg,     :fgcov, 0,        Ms[fluxcut][sim],  ϕs[sim]),\n",
    "            (:corrfg,   :fgcov, gs[sim] , Ms[fluxcut][sim],  ϕs[sim]),\n",
    "            (:uncorrfg, :fgcov, gs[sim′], Ms[fluxcut][sim′], ϕs[sim]),\n",
    "#             (:nofg,     :nocov, 0,        Ms[fluxcut][sim],  ϕs[sim]),\n",
    "#             (:corrfg,   :nocov, gs[sim] , Ms[fluxcut][sim],  ϕs[sim]),\n",
    "#             (:uncorrfg, :nocov, gs[sim′], Ms[fluxcut][sim′], ϕs[sim])\n",
    "\n",
    "        ]) do (g_in_data, g_in_cov, g, M, ϕ)\n",
    "\n",
    "            ds′ = resimulate(ds, ϕ=ϕ, seed=sim).ds\n",
    "            if g_in_cov != :nocov\n",
    "                ds′.Cn += polfrac_scale^2*B*Cg*B'\n",
    "            end\n",
    "            if g_in_data != :nofg\n",
    "                ds′.d  += polfrac_scale*B*M*g\n",
    "            end\n",
    "            ds′ = cu(ds′)\n",
    "\n",
    "            (g_in_data,g_in_cov) => \n",
    "                try\n",
    "                    if MAPs == nothing\n",
    "                        fJ,ϕJ = MAP_joint(\n",
    "                            ds′,\n",
    "                            Nϕ       = :qe,\n",
    "                            nsteps   = 30,\n",
    "                            progress = false,\n",
    "                        )\n",
    "                    else\n",
    "                        fJ, ϕJ = cu.(MAPs[sim][g_in_data,g_in_cov][1:2])\n",
    "                    end\n",
    "                    g = gradient(Aϕ -> lnP(0,fJ,ϕJ,(Aϕ=Aϕ,),ds′), ones(Float32,length(ℓedges)-1))[1]\n",
    "                    (f=cpu(fJ), ϕ=cpu(ϕJ), g=g)\n",
    "                catch err\n",
    "                    rethrow(err)\n",
    "                    @warn \"$sim $g_in_data $g_in_cov\"\n",
    "                    nothing\n",
    "                end\n",
    "\n",
    "        end...)\n",
    "\n",
    "    end\n",
    "    \n",
    "end"
   ]
  },
  {
   "cell_type": "code",
   "execution_count": 135,
   "metadata": {},
   "outputs": [],
   "source": [
    "ℓedges = [2:100:500; round.(Int, 10 .^ range(log10(502), log10(6000), length=10))];"
   ]
  },
  {
   "cell_type": "code",
   "execution_count": 136,
   "metadata": {},
   "outputs": [],
   "source": [
    "noises = Dict(\n",
    "    (:deep, 90)  => (μKarcminT=0.68/√2, beamFWHM=2.3, ℓknee=200, αknee=2),\n",
    "    (:wide, 90)  => (μKarcminT=2.9/√2,  beamFWHM=2.2, ℓknee=700, αknee=1.4),\n",
    "    (:deep, 148) => (μKarcminT=0.96/√2, beamFWHM=1.5, ℓknee=200, αknee=2),\n",
    "    (:wide, 148) => (μKarcminT=2.8/√2,  beamFWHM=1.4, ℓknee=700, αknee=1.4),\n",
    ");"
   ]
  },
  {
   "cell_type": "code",
   "execution_count": 137,
   "metadata": {},
   "outputs": [],
   "source": [
    "ℓmax_datas = [3000, 5000]\n",
    "polfrac_scales = [1, 2]\n",
    "freqs = [90, 148]\n",
    "surveys = [:deep, :wide];"
   ]
  },
  {
   "cell_type": "code",
   "execution_count": 138,
   "metadata": {},
   "outputs": [
    {
     "data": {
      "text/plain": [
       "16-element Array{Tuple{Symbol,Int64,Int64,Int64,Int64,String},1}:\n",
       " (:deep, 90, 3000, 5, 1, \"/global/home/users/mariusmillea/work/ptsrclens/data/MAPs/fluxcut=5_freq=90_polfrac_scale=1_survey=deep_ℓmax_data=3000.jld2\")\n",
       " (:wide, 90, 3000, 5, 1, \"/global/home/users/mariusmillea/work/ptsrclens/data/MAPs/fluxcut=5_freq=90_polfrac_scale=1_survey=wide_ℓmax_data=3000.jld2\")\n",
       " (:deep, 148, 3000, 5, 1, \"/global/home/users/mariusmillea/work/ptsrclens/data/MAPs/fluxcut=5_freq=148_polfrac_scale=1_survey=deep_ℓmax_data=3000.jld2\")\n",
       " (:wide, 148, 3000, 5, 1, \"/global/home/users/mariusmillea/work/ptsrclens/data/MAPs/fluxcut=5_freq=148_polfrac_scale=1_survey=wide_ℓmax_data=3000.jld2\")\n",
       " (:deep, 90, 5000, 5, 1, \"/global/home/users/mariusmillea/work/ptsrclens/data/MAPs/fluxcut=5_freq=90_polfrac_scale=1_survey=deep_ℓmax_data=5000.jld2\")\n",
       " (:wide, 90, 5000, 5, 1, \"/global/home/users/mariusmillea/work/ptsrclens/data/MAPs/fluxcut=5_freq=90_polfrac_scale=1_survey=wide_ℓmax_data=5000.jld2\")\n",
       " (:deep, 148, 5000, 5, 1, \"/global/home/users/mariusmillea/work/ptsrclens/data/MAPs/fluxcut=5_freq=148_polfrac_scale=1_survey=deep_ℓmax_data=5000.jld2\")\n",
       " (:wide, 148, 5000, 5, 1, \"/global/home/users/mariusmillea/work/ptsrclens/data/MAPs/fluxcut=5_freq=148_polfrac_scale=1_survey=wide_ℓmax_data=5000.jld2\")\n",
       " (:deep, 90, 3000, 5, 2, \"/global/home/users/mariusmillea/work/ptsrclens/data/MAPs/fluxcut=5_freq=90_polfrac_scale=2_survey=deep_ℓmax_data=3000.jld2\")\n",
       " (:wide, 90, 3000, 5, 2, \"/global/home/users/mariusmillea/work/ptsrclens/data/MAPs/fluxcut=5_freq=90_polfrac_scale=2_survey=wide_ℓmax_data=3000.jld2\")\n",
       " (:deep, 148, 3000, 5, 2, \"/global/home/users/mariusmillea/work/ptsrclens/data/MAPs/fluxcut=5_freq=148_polfrac_scale=2_survey=deep_ℓmax_data=3000.jld2\")\n",
       " (:wide, 148, 3000, 5, 2, \"/global/home/users/mariusmillea/work/ptsrclens/data/MAPs/fluxcut=5_freq=148_polfrac_scale=2_survey=wide_ℓmax_data=3000.jld2\")\n",
       " (:deep, 90, 5000, 5, 2, \"/global/home/users/mariusmillea/work/ptsrclens/data/MAPs/fluxcut=5_freq=90_polfrac_scale=2_survey=deep_ℓmax_data=5000.jld2\")\n",
       " (:wide, 90, 5000, 5, 2, \"/global/home/users/mariusmillea/work/ptsrclens/data/MAPs/fluxcut=5_freq=90_polfrac_scale=2_survey=wide_ℓmax_data=5000.jld2\")\n",
       " (:deep, 148, 5000, 5, 2, \"/global/home/users/mariusmillea/work/ptsrclens/data/MAPs/fluxcut=5_freq=148_polfrac_scale=2_survey=deep_ℓmax_data=5000.jld2\")\n",
       " (:wide, 148, 5000, 5, 2, \"/global/home/users/mariusmillea/work/ptsrclens/data/MAPs/fluxcut=5_freq=148_polfrac_scale=2_survey=wide_ℓmax_data=5000.jld2\")"
      ]
     },
     "execution_count": 138,
     "metadata": {},
     "output_type": "execute_result"
    }
   ],
   "source": [
    "configs = let fluxcuts = [5]\n",
    "    collect(skipmissing(map(Iterators.product(surveys,freqs,ℓmax_datas,fluxcuts,polfrac_scales)) do (survey,freq,ℓmax_data,fluxcut,polfrac_scale)\n",
    "        filename = datadir(\"MAPs\", savename((;survey,freq,ℓmax_data,fluxcut,polfrac_scale), \"jld2\"))\n",
    "        if !isfile(filename)\n",
    "            (survey,freq,ℓmax_data,fluxcut,polfrac_scale,filename)\n",
    "        else\n",
    "            missing\n",
    "        end\n",
    "    end))\n",
    "end"
   ]
  },
  {
   "cell_type": "code",
   "execution_count": null,
   "metadata": {},
   "outputs": [],
   "source": [
    "map(configs) do (survey,freq,ℓmax_data,fluxcut,polfrac_scale,filename)\n",
    "    MAPs = get_MAPs(;\n",
    "        Ms=Ms_radio[survey,freq,fluxcut], gs=gs_radio[freq], ϕs, noise_kwargs=noises[survey,freq], ℓmax_data, fluxcut, \n",
    "        polfrac_scale, ℓedges, μKarcmin_g=μKarcmin_gs_radio[survey,freq,fluxcut], Nbatch=16\n",
    "    )\n",
    "    save(filename, \"MAPs\", MAPs)\n",
    "end"
   ]
  }
 ],
 "metadata": {
  "kernelspec": {
   "display_name": "Julia 1.5.2",
   "language": "julia",
   "name": "julia-1.5"
  },
  "language_info": {
   "file_extension": ".jl",
   "mimetype": "application/julia",
   "name": "julia",
   "version": "1.5.2"
  }
 },
 "nbformat": 4,
 "nbformat_minor": 4
}
