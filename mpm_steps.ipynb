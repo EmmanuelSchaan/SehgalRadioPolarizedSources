{
 "cells": [
  {
   "cell_type": "code",
   "execution_count": 1,
   "id": "0edb091d-8ee6-43de-a548-c5d538b4665e",
   "metadata": {},
   "outputs": [],
   "source": [
    "using Distributed"
   ]
  },
  {
   "cell_type": "code",
   "execution_count": 2,
   "id": "96dafcab-2e34-488b-b559-c034feb6712c",
   "metadata": {},
   "outputs": [
    {
     "data": {
      "text/plain": [
       "4-element Vector{Int64}:\n",
       " 2\n",
       " 3\n",
       " 4\n",
       " 5"
      ]
     },
     "execution_count": 2,
     "metadata": {},
     "output_type": "execute_result"
    }
   ],
   "source": [
    "addprocs(4, exeflags=\"--project=$(Base.active_project())\")"
   ]
  },
  {
   "cell_type": "code",
   "execution_count": 3,
   "id": "e3f31f84-2b61-4e26-8a1e-96613e47c9b0",
   "metadata": {},
   "outputs": [],
   "source": [
    "@everywhere begin\n",
    "\n",
    "    using PyPlot\n",
    "    using Random\n",
    "    using Setfield\n",
    "    using Statistics\n",
    "    using JLD2\n",
    "    using FileIO\n",
    "    using Measurements: value\n",
    "    using CUDA\n",
    "    using LinearAlgebra\n",
    "    using ComponentArrays\n",
    "\n",
    "    using Revise\n",
    "\n",
    "    using CMBLensing\n",
    "    using PtsrcLens\n",
    "    using MPMEstimate\n",
    "    \n",
    "end"
   ]
  },
  {
   "cell_type": "code",
   "execution_count": 4,
   "id": "436b8dee-8821-49e4-b1d6-e6e622ae383e",
   "metadata": {},
   "outputs": [
    {
     "name": "stderr",
     "output_type": "stream",
     "text": [
      "┌ Info: Processes:\n",
      "│  (myid = 1, host = cgpu18, device = CuDevice(0): Tesla V100-SXM2-16GB a80f8d10))\n",
      "│  (myid = 2, host = cgpu18, device = CuDevice(1): Tesla V100-SXM2-16GB 75d9330e))\n",
      "│  (myid = 3, host = cgpu18, device = CuDevice(2): Tesla V100-SXM2-16GB 7fcea50c))\n",
      "│  (myid = 4, host = cgpu18, device = CuDevice(3): Tesla V100-SXM2-16GB 904d9fef))\n",
      "│  (myid = 5, host = cgpu18, device = CuDevice(0): Tesla V100-SXM2-16GB a80f8d10))\n",
      "└ @ CMBLensing /global/u1/m/marius/work/ptsrclens/dev/CMBLensing/src/util_parallel.jl:104\n"
     ]
    }
   ],
   "source": [
    "CMBLensing.assign_GPU_workers()"
   ]
  },
  {
   "cell_type": "markdown",
   "id": "e69585d4-16f0-4699-98a5-bcc78e1d58bf",
   "metadata": {
    "tags": []
   },
   "source": [
    "# Load"
   ]
  },
  {
   "cell_type": "code",
   "execution_count": 5,
   "id": "2dd2ed83-c49b-4949-98f5-d9ccf2dfc1d5",
   "metadata": {},
   "outputs": [
    {
     "data": {
      "text/plain": [
       "5-element Vector{Symbol}:\n",
       " :ϕs\n",
       " :κs\n",
       " :gs_ir\n",
       " :gs_radio\n",
       " :Ms_radio"
      ]
     },
     "execution_count": 5,
     "metadata": {},
     "output_type": "execute_result"
    }
   ],
   "source": [
    "@load \"data/sehgal_maps_h5/cutouts.jld2\""
   ]
  },
  {
   "cell_type": "code",
   "execution_count": 6,
   "id": "10a66f6e-c0b3-4ac4-adc0-ba8b78f06d00",
   "metadata": {},
   "outputs": [],
   "source": [
    "@unpack (fg_noise_radio, fg_noise_ir) = get_foreground_noise(;Ms_radio, gs_radio, gs_ir);"
   ]
  },
  {
   "cell_type": "markdown",
   "id": "04ae4012-3187-4bcb-8528-d889c6cd6d78",
   "metadata": {
    "tags": []
   },
   "source": [
    "# Configuration"
   ]
  },
  {
   "cell_type": "code",
   "execution_count": 16,
   "id": "7a4e2139-c535-43e9-9240-c4d24d886734",
   "metadata": {},
   "outputs": [],
   "source": [
    "ℓedges        = [2; 100:50:500; round.(Int, 10 .^ range(log10(502), log10(5000), length=30))];\n",
    "polfrac_scale = 1\n",
    "freq          = 148       # (90, 148)\n",
    "survey        = :deep    # (:deep, :wide)\n",
    "fluxcut       = 5       # (2, 5, 10, Inf)\n",
    "sim           = 1;       # 1...40"
   ]
  },
  {
   "cell_type": "markdown",
   "id": "3c1477fc-127e-459c-a070-f8995ff773ed",
   "metadata": {},
   "source": [
    "# Run"
   ]
  },
  {
   "cell_type": "code",
   "execution_count": 17,
   "id": "6373ac32-477f-40a1-a6cd-74c9c9eb3d3c",
   "metadata": {},
   "outputs": [],
   "source": [
    "noise_kwargs = noises[survey,freq];\n",
    "fg_noise = fg_noise_radio[survey,freq,fluxcut];\n",
    "M = cu(Ms_radio[survey,freq,fluxcut][sim])\n",
    "nbinsϕ = length(ℓedges)-1\n",
    "\n",
    "Cℓ = get_fiducial_Cℓ(ϕs);\n",
    "\n",
    "@unpack ds,proj,f,ϕ = load_sim_dataset(;\n",
    "    Cℓ = Cℓ,\n",
    "    θpix = 2,\n",
    "    storage = CuArray,    \n",
    "    Nside = 300,\n",
    "    pol = :P,\n",
    "    bandpass_mask = LowPass(5000),\n",
    "    noise_kwargs...\n",
    ");\n",
    "\n",
    "@unpack B = ds\n",
    "\n",
    "ds.Cϕ = Cℓ_to_Cov(:I, proj, (Cℓ.total.ϕϕ, ℓedges, :Aϕ));\n",
    "ds.G = 1\n",
    "\n",
    "\n",
    "Cℓg = noiseCℓs(μKarcminT=polfrac_scale*value(fg_noise)/√2, beamFWHM=0, ℓknee=0)\n",
    "Cg = Cℓ_to_Cov(:P, proj, Cℓg.EE, Cℓg.BB);"
   ]
  },
  {
   "cell_type": "code",
   "execution_count": 18,
   "id": "340707bf-200d-4f53-baeb-5e7ffda03fb0",
   "metadata": {},
   "outputs": [
    {
     "data": {
      "text/plain": [
       "ComponentVector{Float32}(Aϕ = Float32[1.0, 1.0, 1.0, 1.0, 1.0, 1.0, 1.0, 1.0, 1.0, 1.0  …  1.0, 1.0, 1.0, 1.0, 1.0, 1.0, 1.0, 1.0, 1.0, 1.0])"
      ]
     },
     "execution_count": 18,
     "metadata": {},
     "output_type": "execute_result"
    }
   ],
   "source": [
    "θ₀ = ComponentArray(Aϕ=ones(Float32,nbinsϕ),)"
   ]
  },
  {
   "cell_type": "code",
   "execution_count": 19,
   "id": "0d773170-86bc-476a-b92d-554bbb79c483",
   "metadata": {},
   "outputs": [],
   "source": [
    "ds_nofg = resimulate(ds, ϕ=cu(ϕs[sim]), seed=sim).ds;"
   ]
  },
  {
   "cell_type": "code",
   "execution_count": 20,
   "id": "2bcd91b5-1213-4616-afb9-8f39f6f91298",
   "metadata": {},
   "outputs": [],
   "source": [
    "ds_withfg = @set(ds_nofg.d += polfrac_scale*B*M*cu(gs_radio[freq][sim]));"
   ]
  },
  {
   "cell_type": "code",
   "execution_count": 21,
   "id": "5428da91-268f-4839-9b3b-d80ffc7905ad",
   "metadata": {},
   "outputs": [],
   "source": [
    "MAP_joint_kwargs = (progress=false, αtol=1e-4, nsteps=20, nburnin_update_hessian=Inf);"
   ]
  },
  {
   "cell_type": "code",
   "execution_count": 22,
   "id": "a31e94dd-c9bc-4dd7-b7db-95920f4f521d",
   "metadata": {},
   "outputs": [
    {
     "data": {
      "text/plain": [
       "MersenneTwister(1)"
      ]
     },
     "execution_count": 22,
     "metadata": {},
     "output_type": "execute_result"
    }
   ],
   "source": [
    "rng = MersenneTwister(1)"
   ]
  },
  {
   "cell_type": "code",
   "execution_count": 23,
   "id": "b153c627-c0f6-41be-b569-579f74548eaa",
   "metadata": {},
   "outputs": [
    {
     "data": {
      "text/plain": [
       "regularize (generic function with 1 method)"
      ]
     },
     "execution_count": 23,
     "metadata": {},
     "output_type": "execute_result"
    }
   ],
   "source": [
    "regularize(θ,σθ) = similar(θ) .= sum(@. θ / σθ^2) / sum(@. 1 / σθ^2)"
   ]
  },
  {
   "cell_type": "code",
   "execution_count": null,
   "id": "8d6f0169-9e8c-443f-b131-7af8b64dcfe0",
   "metadata": {},
   "outputs": [],
   "source": [
    "θmpm, σθ, history    = mpm(ds_nofg  , θ₀; MAP_joint_kwargs, regularize, nsteps=3, α=1, nsims=10, rng, progress=true, map=pmap);"
   ]
  },
  {
   "cell_type": "code",
   "execution_count": null,
   "id": "4cd58ef6-0cd4-49ea-9668-c7705b1a6f8c",
   "metadata": {},
   "outputs": [],
   "source": [
    "θmpm′, σθ′, history′ = mpm(ds_withfg, θ₀; MAP_joint_kwargs, regularize, nsteps=3, α=1, nsims=10, rng, progress=true, map=pmap);"
   ]
  },
  {
   "cell_type": "code",
   "execution_count": null,
   "id": "78e8a73b-ad4d-47f3-853e-bfa9e467e863",
   "metadata": {},
   "outputs": [],
   "source": [
    "for (i,h) in enumerate(history′[2:end])\n",
    "    plot(h.θunreg, label=i)\n",
    "end\n",
    "# ylim(-1,0.1)\n",
    "legend()"
   ]
  },
  {
   "cell_type": "code",
   "execution_count": null,
   "id": "8a0c33e9-bbae-418b-8d35-a6a3db71cbe5",
   "metadata": {},
   "outputs": [],
   "source": [
    "for (i,(h,h′)) in enumerate(zip(history[2:end],history′[2:end]))\n",
    "    σθ = 1 ./ std(collect(h.g_sims))\n",
    "    plot((h.θunreg-h′.θunreg), label=i)\n",
    "end\n",
    "# ylim(-1,0.1)\n",
    "legend()"
   ]
  },
  {
   "cell_type": "markdown",
   "id": "2d490326-8dda-4700-a839-a9f761ef2824",
   "metadata": {},
   "source": [
    "# Loop"
   ]
  },
  {
   "cell_type": "code",
   "execution_count": 24,
   "id": "58350b80-3e0b-4979-94b0-24d45ba09dd3",
   "metadata": {},
   "outputs": [
    {
     "name": "stderr",
     "output_type": "stream",
     "text": [
      "\u001b[32mMPM: 100%|██████████████████████████████████████████████| Time: 0:01:34\u001b[39m\n",
      "\u001b[32mMPM: 100%|██████████████████████████████████████████████| Time: 0:01:30\u001b[39m\n",
      "\u001b[32mMPM: 100%|██████████████████████████████████████████████| Time: 0:01:28\u001b[39m\n",
      "\u001b[32mMPM: 100%|██████████████████████████████████████████████| Time: 0:01:28\u001b[39m\n",
      "\u001b[32mMPM: 100%|██████████████████████████████████████████████| Time: 0:01:29\u001b[39m\n",
      "\u001b[32mMPM: 100%|██████████████████████████████████████████████| Time: 0:01:27\u001b[39m\n",
      "\u001b[32mMPM: 100%|██████████████████████████████████████████████| Time: 0:01:29\u001b[39m\n",
      "\u001b[32mMPM: 100%|██████████████████████████████████████████████| Time: 0:01:28\u001b[39m\n",
      "\u001b[32mMPM: 100%|██████████████████████████████████████████████| Time: 0:01:29\u001b[39m\n",
      "\u001b[32mMPM: 100%|██████████████████████████████████████████████| Time: 0:01:29\u001b[39m\n",
      "\u001b[32mMPM: 100%|██████████████████████████████████████████████| Time: 0:01:28\u001b[39m\n",
      "\u001b[32mMPM: 100%|██████████████████████████████████████████████| Time: 0:01:27\u001b[39m\n",
      "\u001b[32mMPM: 100%|██████████████████████████████████████████████| Time: 0:01:26\u001b[39m\n",
      "\u001b[32mMPM: 100%|██████████████████████████████████████████████| Time: 0:01:29\u001b[39m\n",
      "\u001b[32mMPM: 100%|██████████████████████████████████████████████| Time: 0:01:29\u001b[39m\n",
      "\u001b[32mMPM: 100%|██████████████████████████████████████████████| Time: 0:01:30\u001b[39m\n",
      "\u001b[32mMPM: 100%|██████████████████████████████████████████████| Time: 0:01:26\u001b[39m\n",
      "\u001b[32mMPM: 100%|██████████████████████████████████████████████| Time: 0:01:26\u001b[39m\n",
      "\u001b[32mMPM: 100%|██████████████████████████████████████████████| Time: 0:01:29\u001b[39m\n",
      "\u001b[32mMPM: 100%|██████████████████████████████████████████████| Time: 0:01:29\u001b[39m\n",
      "\u001b[32mMPM: 100%|██████████████████████████████████████████████| Time: 0:01:29\u001b[39m\n",
      "\u001b[32mMPM: 100%|██████████████████████████████████████████████| Time: 0:01:27\u001b[39m\n",
      "\u001b[32mMPM: 100%|██████████████████████████████████████████████| Time: 0:01:30\u001b[39m\n",
      "\u001b[32mMPM: 100%|██████████████████████████████████████████████| Time: 0:01:31\u001b[39m\n",
      "\u001b[32mMPM: 100%|██████████████████████████████████████████████| Time: 0:01:27\u001b[39m\n",
      "\u001b[32mMPM: 100%|██████████████████████████████████████████████| Time: 0:01:29\u001b[39m\n",
      "\u001b[32mMPM: 100%|██████████████████████████████████████████████| Time: 0:01:27\u001b[39m\n",
      "\u001b[32mMPM: 100%|██████████████████████████████████████████████| Time: 0:01:28\u001b[39m\n",
      "\u001b[32mMPM: 100%|██████████████████████████████████████████████| Time: 0:01:29\u001b[39m\n",
      "\u001b[32mMPM: 100%|██████████████████████████████████████████████| Time: 0:01:27\u001b[39m\n",
      "\u001b[32mMPM: 100%|██████████████████████████████████████████████| Time: 0:01:29\u001b[39m\n",
      "\u001b[32mMPM: 100%|██████████████████████████████████████████████| Time: 0:01:30\u001b[39m\n",
      "\u001b[32mMPM: 100%|██████████████████████████████████████████████| Time: 0:01:29\u001b[39m\n",
      "\u001b[32mMPM: 100%|██████████████████████████████████████████████| Time: 0:01:29\u001b[39m\n",
      "\u001b[32mMPM: 100%|██████████████████████████████████████████████| Time: 0:01:31\u001b[39m\n",
      "\u001b[32mMPM: 100%|██████████████████████████████████████████████| Time: 0:01:30\u001b[39m\n",
      "\u001b[32mMPM: 100%|██████████████████████████████████████████████| Time: 0:01:27\u001b[39m\n",
      "\u001b[32mMPM: 100%|██████████████████████████████████████████████| Time: 0:01:29\u001b[39m\n",
      "\u001b[32mMPM: 100%|██████████████████████████████████████████████| Time: 0:01:29\u001b[39m\n",
      "\u001b[32mMPM: 100%|██████████████████████████████████████████████| Time: 0:01:29\u001b[39m\n",
      "\u001b[32mMPM: 100%|██████████████████████████████████████████████| Time: 0:01:27\u001b[39m\n",
      "\u001b[32mMPM: 100%|██████████████████████████████████████████████| Time: 0:01:27\u001b[39m\n",
      "\u001b[32mMPM: 100%|██████████████████████████████████████████████| Time: 0:01:29\u001b[39m\n",
      "\u001b[32mMPM: 100%|██████████████████████████████████████████████| Time: 0:01:29\u001b[39m\n",
      "\u001b[32mMPM: 100%|██████████████████████████████████████████████| Time: 0:01:28\u001b[39m\n",
      "\u001b[32mMPM: 100%|██████████████████████████████████████████████| Time: 0:01:29\u001b[39m\n",
      "\u001b[32mMPM: 100%|██████████████████████████████████████████████| Time: 0:01:27\u001b[39m\n",
      "\u001b[32mMPM: 100%|██████████████████████████████████████████████| Time: 0:01:27\u001b[39m\n",
      "\u001b[32mMPM: 100%|██████████████████████████████████████████████| Time: 0:01:29\u001b[39m\n",
      "\u001b[32mMPM: 100%|██████████████████████████████████████████████| Time: 0:01:28\u001b[39m\n",
      "\u001b[32mMPM: 100%|██████████████████████████████████████████████| Time: 0:01:28\u001b[39m\n",
      "\u001b[32mMPM: 100%|██████████████████████████████████████████████| Time: 0:01:30\u001b[39m\n",
      "\u001b[32mMPM: 100%|██████████████████████████████████████████████| Time: 0:01:29\u001b[39m\n",
      "\u001b[32mMPM: 100%|██████████████████████████████████████████████| Time: 0:01:30\u001b[39m\n",
      "\u001b[32mMPM: 100%|██████████████████████████████████████████████| Time: 0:01:29\u001b[39m\n",
      "\u001b[32mMPM: 100%|██████████████████████████████████████████████| Time: 0:01:28\u001b[39m\n",
      "\u001b[32mMPM: 100%|██████████████████████████████████████████████| Time: 0:01:28\u001b[39m\n",
      "\u001b[32mMPM: 100%|██████████████████████████████████████████████| Time: 0:01:32\u001b[39m\n",
      "\u001b[32mMPM: 100%|██████████████████████████████████████████████| Time: 0:01:36\u001b[39m\n",
      "\u001b[32mMPM: 100%|██████████████████████████████████████████████| Time: 0:01:36\u001b[39m\n",
      "\u001b[32mMPM: 100%|██████████████████████████████████████████████| Time: 0:01:34\u001b[39m\n",
      "\u001b[32mMPM: 100%|██████████████████████████████████████████████| Time: 0:01:36\u001b[39m\n",
      "\u001b[32mMPM: 100%|██████████████████████████████████████████████| Time: 0:01:39\u001b[39m\n",
      "\u001b[32mMPM: 100%|██████████████████████████████████████████████| Time: 0:01:33\u001b[39m\n",
      "\u001b[32mMPM: 100%|██████████████████████████████████████████████| Time: 0:01:31\u001b[39m\n",
      "\u001b[32mMPM: 100%|██████████████████████████████████████████████| Time: 0:01:32\u001b[39m\n",
      "\u001b[32mMPM: 100%|██████████████████████████████████████████████| Time: 0:01:29\u001b[39m\n",
      "\u001b[32mMPM: 100%|██████████████████████████████████████████████| Time: 0:01:31\u001b[39m\n",
      "\u001b[32mMPM: 100%|██████████████████████████████████████████████| Time: 0:01:35\u001b[39m\n",
      "\u001b[32mMPM: 100%|██████████████████████████████████████████████| Time: 0:01:33\u001b[39m\n",
      "\u001b[32mMPM: 100%|██████████████████████████████████████████████| Time: 0:01:34\u001b[39m\n",
      "\u001b[32mMPM: 100%|██████████████████████████████████████████████| Time: 0:01:35\u001b[39m\n",
      "\u001b[32mMPM: 100%|██████████████████████████████████████████████| Time: 0:01:31\u001b[39m\n",
      "\u001b[32mMPM: 100%|██████████████████████████████████████████████| Time: 0:01:34\u001b[39m\n",
      "\u001b[32mMPM: 100%|██████████████████████████████████████████████| Time: 0:01:37\u001b[39m\n",
      "\u001b[32mMPM: 100%|██████████████████████████████████████████████| Time: 0:01:31\u001b[39m\n",
      "\u001b[32mMPM: 100%|██████████████████████████████████████████████| Time: 0:01:30\u001b[39m\n",
      "\u001b[32mMPM: 100%|██████████████████████████████████████████████| Time: 0:01:29\u001b[39m\n",
      "\u001b[32mMPM: 100%|██████████████████████████████████████████████| Time: 0:01:27\u001b[39m\n",
      "\u001b[32mMPM: 100%|██████████████████████████████████████████████| Time: 0:01:29\u001b[39m\n"
     ]
    }
   ],
   "source": [
    "for sim = 1:40\n",
    "\n",
    "    try\n",
    "        \n",
    "        M = cu(Ms_radio[survey,freq,fluxcut][sim])\n",
    "\n",
    "        ds_nofg = resimulate(ds, ϕ=cu(ϕs[sim]), seed=sim).ds;\n",
    "        ds_withfg = @set(ds_nofg.d += polfrac_scale*B*M*cu(gs_radio[freq][sim]));\n",
    "\n",
    "        rng = MersenneTwister(sim)\n",
    "\n",
    "        θmpm,  σθ,  history  = mpm(ds_nofg  , θ₀; MAP_joint_kwargs, regularize, nsteps=3, α=1, nsims=10, rng, progress=true, map=pmap);\n",
    "        θmpm′, σθ′, history′ = mpm(ds_withfg, θ₀; MAP_joint_kwargs, regularize, nsteps=3, α=1, nsims=10, rng, progress=true, map=pmap);\n",
    "\n",
    "        save(\"data/mpm_steps/freq$(freq)_$(survey)_fluxcut$(fluxcut)/sim$(sim).jld2\", \"history_nofg\", history, \"history_withfg\", history′)\n",
    "    catch err\n",
    "        if (err isa InterruptException) || (err isa RemoteException && err.captured isa CapturedException && err.captured.ex isa InterruptException)\n",
    "            rethrow(err)\n",
    "        else\n",
    "            @warn err\n",
    "        end\n",
    "    end\n",
    "\n",
    "end"
   ]
  },
  {
   "cell_type": "code",
   "execution_count": null,
   "id": "0a2bbd87-3708-4ed8-b35f-2e410a6c8b7f",
   "metadata": {},
   "outputs": [],
   "source": []
  }
 ],
 "metadata": {
  "kernelspec": {
   "display_name": "Julia 1.6.1 (env)",
   "language": "julia",
   "name": "julia-1.6-env"
  },
  "language_info": {
   "file_extension": ".jl",
   "mimetype": "application/julia",
   "name": "julia",
   "version": "1.6.1"
  }
 },
 "nbformat": 4,
 "nbformat_minor": 5
}
