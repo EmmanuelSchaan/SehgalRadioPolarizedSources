{
 "cells": [
  {
   "cell_type": "code",
   "execution_count": 2,
   "metadata": {},
   "outputs": [],
   "source": [
    "import healpy as hp\n",
    "import numpy as np\n",
    "import matplotlib.pyplot as plt\n",
    "from scipy import stats\n",
    "\n",
    "from basic_functions import *\n",
    "from cmb import *\n",
    "from flat_map import *"
   ]
  },
  {
   "cell_type": "markdown",
   "metadata": {},
   "source": [
    "# Read one of the galaxy catalog"
   ]
  },
  {
   "cell_type": "code",
   "execution_count": 9,
   "metadata": {},
   "outputs": [
    {
     "name": "stdout",
     "output_type": "stream",
     "text": [
      "298 sources\n"
     ]
    }
   ],
   "source": [
    "pathInDir = \"/global/cscratch1/sd/eschaan/SehgalRadioPolarizedSources/input/sehgal_ir_galaxies/\"\n",
    "\n",
    "# Choose input file\n",
    "sourceCatalog = \"IRBlastPop\"\n",
    "pathIn = pathInDir + sourceCatalog + \".dat\"\n",
    "\n",
    "# read file\n",
    "data = np.genfromtxt(pathIn)#, max_rows=nObjMax)\n",
    "IObj = data[:,0]\n",
    "ra = data[:,1]\n",
    "dec = data[:,2]\n",
    "z = data[:,3]\n",
    "# f30_mJy = data[:,4]\n",
    "# f90_mJy = data[:,5]\n",
    "f148_mJy = data[:,6]\n",
    "# f219_mJy = data[:,7]\n",
    "# f277_mJy = data[:,8]\n",
    "# f350_mJy = data[:,9]\n",
    "\n",
    "print len(ra), \"sources\""
   ]
  },
  {
   "cell_type": "markdown",
   "metadata": {},
   "source": [
    "## Check the location of the sources"
   ]
  },
  {
   "cell_type": "markdown",
   "metadata": {},
   "source": [
    "It is known that the Sehgal sims only have one octant. Weirdly, they are not always exactly confined in the octant: some objects are slightly outside:"
   ]
  },
  {
   "cell_type": "code",
   "execution_count": 11,
   "metadata": {},
   "outputs": [
    {
     "name": "stdout",
     "output_type": "stream",
     "text": [
      "coordinates should be between 0 and 90\n",
      "0.0522388 89.3023376\n",
      "0.3434377 85.250351\n"
     ]
    }
   ],
   "source": [
    "print \"coordinates should be between 0 and 90\"\n",
    "print np.min(ra), np.max(ra)\n",
    "print np.min(dec), np.max(dec)"
   ]
  },
  {
   "cell_type": "markdown",
   "metadata": {},
   "source": [
    "For an isotropic distribution of sources,\n",
    "the RA distribution should be flat\n",
    "and the dec distribution should go as $\\cos(\\text{dec})$"
   ]
  },
  {
   "cell_type": "code",
   "execution_count": 12,
   "metadata": {},
   "outputs": [
    {
     "name": "stderr",
     "output_type": "stream",
     "text": [
      "/global/homes/e/eschaan/.conda/envs/namaster2.7/lib/python2.7/site-packages/matplotlib/font_manager.py:1331: UserWarning: findfont: Font family [u'serif'] not found. Falling back to DejaVu Sans\n",
      "  (prop.get_family(), self.defaultFamily[fontext]))\n"
     ]
    },
    {
     "data": {
      "image/png": "[encoded data removed]",
      "text/plain": [
       "<Figure size 432x288 with 1 Axes>"
      ]
     },
     "metadata": {
      "needs_background": "light"
     },
     "output_type": "display_data"
    },
    {
     "data": {
      "image/png": "[encoded data removed]",
      "text/plain": [
       "<Figure size 432x288 with 1 Axes>"
      ]
     },
     "metadata": {
      "needs_background": "light"
     },
     "output_type": "display_data"
    }
   ],
   "source": [
    "myHistogram(ra, nBins=71, lim=None, S2Theory=[], path=None, plot=True, nameLatex=r'RA', semilogx=False, semilogy=False, doGauss=False)\n",
    "myHistogram(dec, nBins=71, lim=None, S2Theory=[], path=None, plot=True, nameLatex=r'dec', semilogx=False, semilogy=False, doGauss=False)"
   ]
  },
  {
   "cell_type": "markdown",
   "metadata": {},
   "source": [
    "Throw out the objects outside of the quadrant"
   ]
  },
  {
   "cell_type": "code",
   "execution_count": 13,
   "metadata": {},
   "outputs": [
    {
     "name": "stdout",
     "output_type": "stream",
     "text": [
      "keeping 298 objects out of 298\n",
      "ie a fraction 1.0\n"
     ]
    }
   ],
   "source": [
    "I = np.where((ra>=0.)*(ra<=90.)*(dec>=0.)*(dec<=90.))[0]\n",
    "print \"keeping\", len(I), \"objects out of\", len(ra)\n",
    "print \"ie a fraction\", 1.*len(I)/len(ra)"
   ]
  },
  {
   "cell_type": "code",
   "execution_count": 14,
   "metadata": {},
   "outputs": [],
   "source": [
    "ra = ra[I]\n",
    "dec = dec[I]\n",
    "z = z[I]\n",
    "f148_mJy = f148_mJy[I]"
   ]
  },
  {
   "cell_type": "markdown",
   "metadata": {},
   "source": [
    "## Check dn/dz of sources"
   ]
  },
  {
   "cell_type": "code",
   "execution_count": 15,
   "metadata": {},
   "outputs": [
    {
     "data": {
      "image/png": "[encoded data removed]",
      "text/plain": [
       "<Figure size 432x288 with 1 Axes>"
      ]
     },
     "metadata": {
      "needs_background": "light"
     },
     "output_type": "display_data"
    }
   ],
   "source": [
    "myHistogram(z, nBins=71, lim=None, S2Theory=[], path=None, plot=True, nameLatex=r'$z$', semilogx=False, semilogy=False, doGauss=False)\n"
   ]
  },
  {
   "cell_type": "markdown",
   "metadata": {},
   "source": [
    "## Check flux distribution"
   ]
  },
  {
   "cell_type": "markdown",
   "metadata": {},
   "source": [
    "The flux cut when masking will be around 5mJy."
   ]
  },
  {
   "cell_type": "code",
   "execution_count": 16,
   "metadata": {},
   "outputs": [
    {
     "data": {
      "image/png": "[encoded data removed]",
      "text/plain": [
       "<Figure size 432x288 with 1 Axes>"
      ]
     },
     "metadata": {
      "needs_background": "light"
     },
     "output_type": "display_data"
    }
   ],
   "source": [
    "myHistogram(f148_mJy, nBins=71, lim=None, S2Theory=[], path=None, plot=True, nameLatex=r'flux at 148GHz [mJy]', semilogx=True, semilogy=True, doGauss=False)\n"
   ]
  },
  {
   "cell_type": "markdown",
   "metadata": {},
   "source": [
    "# Generate source count map (test)"
   ]
  },
  {
   "cell_type": "code",
   "execution_count": 17,
   "metadata": {},
   "outputs": [],
   "source": [
    "# Map geometry to match the Sehgal maps\n",
    "nSide = 4096 #512#4096\n",
    "nPix = hp.nside2npix(nSide)\n",
    "\n",
    "# get pixel indices for all galaxies\n",
    "IPix = hp.ang2pix(nSide, np.pi/2. - dec*np.pi/180., ra*np.pi/180., lonlat=False)\n",
    "\n",
    "# print np.min(IPix), np.max(IPix)\n",
    "# print nPix\n",
    "# print IPix"
   ]
  },
  {
   "cell_type": "markdown",
   "metadata": {},
   "source": [
    "The histogram of pixel indices should be flat, since the pixels have equal area and the sources are unclustered."
   ]
  },
  {
   "cell_type": "code",
   "execution_count": 18,
   "metadata": {},
   "outputs": [
    {
     "data": {
      "image/png": "[encoded data removed]",
      "text/plain": [
       "<Figure size 432x288 with 1 Axes>"
      ]
     },
     "metadata": {
      "needs_background": "light"
     },
     "output_type": "display_data"
    }
   ],
   "source": [
    "myHistogram(IPix, nBins=71, lim=None, S2Theory=[], path=None, plot=True, nameLatex=r'iPix', semilogx=False, semilogy=False, doGauss=False)\n"
   ]
  },
  {
   "cell_type": "code",
   "execution_count": 19,
   "metadata": {},
   "outputs": [],
   "source": [
    "# Generate count map\n",
    "bins = np.arange(nPix+1)-0.5\n",
    "countMap, binEdges, binIndices = stats.binned_statistic(IPix, f148_mJy, statistic='count', bins=bins)\n",
    "\n",
    "# IPix = 2*np.ones(nPix)\n",
    "# countMap, binEdges = np.histogram(IPix, bins=nPix, range=(-0.5,nPix-0.5))"
   ]
  },
  {
   "cell_type": "code",
   "execution_count": 20,
   "metadata": {},
   "outputs": [
    {
     "name": "stdout",
     "output_type": "stream",
     "text": [
      "check I have all objects 298.0 298\n",
      "check mean number per pixel 1.4801820119222005e-06 1.48018201192e-06\n",
      "check min / max number of objects per pixel 0.0 2.0\n"
     ]
    }
   ],
   "source": [
    "# print \"bin edges\", binEdges\n",
    "\n",
    "print \"check I have all objects\", np.sum(countMap), len(ra)\n",
    "print \"check mean number per pixel\", np.mean(countMap), 1. * len(ra) / nPix\n",
    "\n",
    "print \"check min / max number of objects per pixel\", np.min(countMap), np.max(countMap)\n"
   ]
  },
  {
   "cell_type": "markdown",
   "metadata": {},
   "source": [
    "The pixel histogram should be a Poisson distribution"
   ]
  },
  {
   "cell_type": "code",
   "execution_count": 21,
   "metadata": {},
   "outputs": [
    {
     "data": {
      "image/png": "[encoded data removed]",
      "text/plain": [
       "<Figure size 432x288 with 1 Axes>"
      ]
     },
     "metadata": {
      "needs_background": "light"
     },
     "output_type": "display_data"
    }
   ],
   "source": [
    "myHistogram(1.e-10+countMap, nBins=101, lim=None, S2Theory=[], path=None, plot=True, nameLatex=r'counts', semilogx=False, semilogy=True, doGauss=False)\n",
    "\n"
   ]
  },
  {
   "cell_type": "markdown",
   "metadata": {},
   "source": [
    "Check that the correct quadrant in the sky is filled: $\\text{RA}, \\text{dec}\\in[0, \\pi/2]$."
   ]
  },
  {
   "cell_type": "code",
   "execution_count": 28,
   "metadata": {},
   "outputs": [
    {
     "data": {
      "image/png": "[encoded data removed]",
      "text/plain": [
       "<Figure size 612x388.8 with 2 Axes>"
      ]
     },
     "metadata": {
      "needs_background": "light"
     },
     "output_type": "display_data"
    }
   ],
   "source": [
    "testMap = hp.ud_grade(countMap, 64)\n",
    "hp.mollview(testMap)"
   ]
  },
  {
   "cell_type": "markdown",
   "metadata": {},
   "source": [
    "# Generate T, Q, U maps"
   ]
  },
  {
   "cell_type": "code",
   "execution_count": 29,
   "metadata": {},
   "outputs": [
    {
     "name": "stdout",
     "output_type": "stream",
     "text": [
      "check that the map contains the flux from all the sources 7659.042392500001 7659.0423925\n",
      "ratio is 1.0000000000000002\n"
     ]
    }
   ],
   "source": [
    "# Generate T map\n",
    "bins = np.arange(nPix+1)-0.5\n",
    "tMap, binEdges, binIndices = stats.binned_statistic(IPix, f148_mJy, statistic='sum', bins=bins)  # flux map [mJy]\n",
    "\n",
    "print \"check that the map contains the flux from all the sources\", np.sum(tMap), np.sum(f148_mJy)\n",
    "print \"ratio is\", np.sum(tMap) / np.sum(f148_mJy)\n",
    "\n",
    "tMap /= hp.nside2pixarea(nSide)  # surf bright map [mJy/sr]"
   ]
  },
  {
   "cell_type": "code",
   "execution_count": 30,
   "metadata": {},
   "outputs": [],
   "source": [
    "# polarization fraction: 3% from Trombetti+18 (to be improved)\n",
    "alpha = 0.03\n",
    "# polarization angles:\n",
    "theta = np.random.uniform(low=0., high=np.pi, size=len(ra))\n",
    "\n",
    "# Generate Q and U maps\n",
    "qMap, binEdges, binIndices = stats.binned_statistic(IPix, f148_mJy * alpha * np.cos(2.*theta), statistic='sum', bins=bins)  # flux map [mJy]\n",
    "qMap /= hp.nside2pixarea(nSide)  # surf bright map [mJy/sr]\n",
    "\n",
    "uMap, binEdges, binIndices = stats.binned_statistic(IPix, f148_mJy * alpha * np.sin(2.*theta), statistic='sum', bins=bins)  # flux map [mJy]\n",
    "uMap /= hp.nside2pixarea(nSide)  # surf bright map [mJy/sr]"
   ]
  },
  {
   "cell_type": "markdown",
   "metadata": {},
   "source": [
    "## Convert all maps from [mJy/sr] to [muKcmb]"
   ]
  },
  {
   "cell_type": "code",
   "execution_count": 31,
   "metadata": {},
   "outputs": [
    {
     "ename": "NameError",
     "evalue": "name 'sehgalTMap' is not defined",
     "output_type": "error",
     "traceback": [
      "\u001b[0;31m\u001b[0m",
      "\u001b[0;31mNameError\u001b[0mTraceback (most recent call last)",
      "\u001b[0;32m<ipython-input-31-6302ab5df6e0>\u001b[0m in \u001b[0;36m<module>\u001b[0;34m()\u001b[0m\n\u001b[1;32m      1\u001b[0m \u001b[0mcmb\u001b[0m \u001b[0;34m=\u001b[0m \u001b[0mCMB\u001b[0m\u001b[0;34m(\u001b[0m\u001b[0mbeam\u001b[0m\u001b[0;34m=\u001b[0m\u001b[0;36m1.\u001b[0m\u001b[0;34m,\u001b[0m \u001b[0mnoise\u001b[0m\u001b[0;34m=\u001b[0m\u001b[0;36m1.\u001b[0m\u001b[0;34m,\u001b[0m \u001b[0mnu1\u001b[0m\u001b[0;34m=\u001b[0m\u001b[0;36m148.e9\u001b[0m\u001b[0;34m,\u001b[0m \u001b[0mnu2\u001b[0m\u001b[0;34m=\u001b[0m\u001b[0;36m148.e9\u001b[0m\u001b[0;34m,\u001b[0m \u001b[0mlMin\u001b[0m\u001b[0;34m=\u001b[0m\u001b[0;36m30.\u001b[0m\u001b[0;34m,\u001b[0m \u001b[0mlMaxT\u001b[0m\u001b[0;34m=\u001b[0m\u001b[0;36m3.e3\u001b[0m\u001b[0;34m,\u001b[0m \u001b[0mlMaxP\u001b[0m\u001b[0;34m=\u001b[0m\u001b[0;36m5.e3\u001b[0m\u001b[0;34m,\u001b[0m \u001b[0mfg\u001b[0m\u001b[0;34m=\u001b[0m\u001b[0mTrue\u001b[0m\u001b[0;34m,\u001b[0m \u001b[0matm\u001b[0m\u001b[0;34m=\u001b[0m\u001b[0mFalse\u001b[0m\u001b[0;34m,\u001b[0m \u001b[0mname\u001b[0m\u001b[0;34m=\u001b[0m\u001b[0mNone\u001b[0m\u001b[0;34m)\u001b[0m\u001b[0;34m\u001b[0m\u001b[0m\n\u001b[1;32m      2\u001b[0m \u001b[0;34m\u001b[0m\u001b[0m\n\u001b[0;32m----> 3\u001b[0;31m \u001b[0msehgalTMap\u001b[0m \u001b[0;34m*=\u001b[0m \u001b[0;36m1.e-3\u001b[0m \u001b[0;34m*\u001b[0m \u001b[0;36m1.e-26\u001b[0m  \u001b[0;31m# convert from [mJy/sr] to surf bright per unit freq = [W/m^2/Hz/sr]\u001b[0m\u001b[0;34m\u001b[0m\u001b[0m\n\u001b[0m\u001b[1;32m      4\u001b[0m \u001b[0msehgalTMap\u001b[0m \u001b[0;34m/=\u001b[0m \u001b[0mcmb\u001b[0m\u001b[0;34m.\u001b[0m\u001b[0mdBdT\u001b[0m\u001b[0;34m(\u001b[0m\u001b[0;36m148.e9\u001b[0m\u001b[0;34m,\u001b[0m \u001b[0mcmb\u001b[0m\u001b[0;34m.\u001b[0m\u001b[0mTcmb\u001b[0m\u001b[0;34m)\u001b[0m  \u001b[0;31m# convert from surf bright per unit freq = [W/m^2/sr/Hz] to Kcmb\u001b[0m\u001b[0;34m\u001b[0m\u001b[0m\n\u001b[1;32m      5\u001b[0m \u001b[0msehgalTMap\u001b[0m \u001b[0;34m*=\u001b[0m \u001b[0;36m1.e6\u001b[0m  \u001b[0;31m# convert from Kcmb to muKcmb\u001b[0m\u001b[0;34m\u001b[0m\u001b[0m\n",
      "\u001b[0;31mNameError\u001b[0m: name 'sehgalTMap' is not defined"
     ]
    }
   ],
   "source": [
    "cmb = CMB(beam=1., noise=1., nu1=148.e9, nu2=148.e9, lMin=30., lMaxT=3.e3, lMaxP=5.e3, fg=True, atm=False, name=None)\n",
    "\n",
    "sehgalTMap *= 1.e-3 * 1.e-26  # convert from [mJy/sr] to surf bright per unit freq = [W/m^2/Hz/sr]\n",
    "sehgalTMap /= cmb.dBdT(148.e9, cmb.Tcmb)  # convert from surf bright per unit freq = [W/m^2/sr/Hz] to Kcmb\n",
    "sehgalTMap *= 1.e6  # convert from Kcmb to muKcmb\n",
    "\n",
    "tMap *= 1.e-3 * 1.e-26  # convert from [mJy/sr] to surf bright per unit freq = [W/m^2/Hz/sr]\n",
    "tMap /= cmb.dBdT(148.e9, cmb.Tcmb)  # convert from surf bright per unit freq = [W/m^2/sr/Hz] to Kcmb\n",
    "tMap *= 1.e6  # convert from Kcmb to muKcmb\n",
    "\n",
    "qMap *= 1.e-3 * 1.e-26  # convert from [mJy/sr] to surf bright per unit freq = [W/m^2/Hz/sr]\n",
    "qMap /= cmb.dBdT(148.e9, cmb.Tcmb)  # convert from surf bright per unit freq = [W/m^2/sr/Hz] to Kcmb\n",
    "qMap *= 1.e6  # convert from Kcmb to muKcmb\n",
    "\n",
    "uMap *= 1.e-3 * 1.e-26  # convert from [mJy/sr] to surf bright per unit freq = [W/m^2/Hz/sr]\n",
    "uMap /= cmb.dBdT(148.e9, cmb.Tcmb)  # convert from surf bright per unit freq = [W/m^2/sr/Hz] to Kcmb\n",
    "uMap *= 1.e6  # convert from Kcmb to muKcmb\n",
    "\n",
    "\n",
    "# The Lambda website says:\n",
    "# dT = [Jy/sr] * T_CMB / 1.072480e9 in [T_CMB units]\n",
    "# Check that it works:\n",
    "print \"My conversion agrees with the Lambda website recommendation:\", 1.e-26 / cmb.dBdT(148.e9, cmb.Tcmb), cmb.Tcmb / 1.072480e9"
   ]
  },
  {
   "cell_type": "code",
   "execution_count": null,
   "metadata": {},
   "outputs": [],
   "source": [
    "myHistogram(1.e-4+tMap, nBins=71, lim=None, S2Theory=[], path=None, plot=True, nameLatex=r'$T$ [$\\mu$K$_\\text{CMB}$]', semilogx=True, semilogy=True, doGauss=False)\n",
    "myHistogram(1.e-11+np.abs(qMap), nBins=71, lim=None, S2Theory=[], path=None, plot=True, nameLatex=r'$|Q|$ [$\\mu$K$_\\text{CMB}$]', semilogx=True, semilogy=True, doGauss=False)\n",
    "myHistogram(1.e-11+np.abs(uMap), nBins=71, lim=None, S2Theory=[], path=None, plot=True, nameLatex=r'$|U|$ [$\\mu$K$_\\text{CMB}$]', semilogx=True, semilogy=True, doGauss=False)\n"
   ]
  },
  {
   "cell_type": "code",
   "execution_count": 32,
   "metadata": {},
   "outputs": [
    {
     "name": "stderr",
     "output_type": "stream",
     "text": [
      "/global/u1/e/eschaan/.conda/envs/namaster2.7/lib/python2.7/site-packages/ipykernel_launcher.py:2: RuntimeWarning: invalid value encountered in log10\n",
      "  \n",
      "/global/u1/e/eschaan/.conda/envs/namaster2.7/lib/python2.7/site-packages/ipykernel_launcher.py:3: RuntimeWarning: invalid value encountered in log10\n",
      "  This is separate from the ipykernel package so we can avoid doing imports until\n"
     ]
    },
    {
     "data": {
      "image/png": "[encoded data removed]",
      "text/plain": [
       "<Figure size 612x388.8 with 2 Axes>"
      ]
     },
     "metadata": {
      "needs_background": "light"
     },
     "output_type": "display_data"
    },
    {
     "data": {
      "image/png": "[encoded data removed]",
      "text/plain": [
       "<Figure size 612x388.8 with 2 Axes>"
      ]
     },
     "metadata": {
      "needs_background": "light"
     },
     "output_type": "display_data"
    },
    {
     "data": {
      "image/png": "[encoded data removed]",
      "text/plain": [
       "<Figure size 612x388.8 with 2 Axes>"
      ]
     },
     "metadata": {
      "needs_background": "light"
     },
     "output_type": "display_data"
    }
   ],
   "source": [
    "hp.mollview(np.log10(1.e-4+tMap))\n",
    "hp.mollview(np.log10(1.e-11+qMap))\n",
    "hp.mollview(np.log10(1.e-11+uMap))"
   ]
  },
  {
   "cell_type": "markdown",
   "metadata": {},
   "source": [
    "## Read the kappa map"
   ]
  },
  {
   "cell_type": "code",
   "execution_count": 33,
   "metadata": {},
   "outputs": [],
   "source": [
    "# kappaMap = hp.read_map(\"./input/sehgal_maps/healpix_4096_KappaeffLSStoCMBfullsky.fits\")\n",
    "# kappaMap = hp.ud_grade(kappaMap, nSide)"
   ]
  },
  {
   "cell_type": "markdown",
   "metadata": {},
   "source": [
    "# Extract cutouts T, Q, U, official Sehgal T (test) and kappa"
   ]
  },
  {
   "cell_type": "code",
   "execution_count": 34,
   "metadata": {},
   "outputs": [
    {
     "name": "stdout",
     "output_type": "stream",
     "text": [
      "1200 pixel on the side, 10.0 degrees on the side\n",
      "resolution is 0.5 arcmin\n"
     ]
    }
   ],
   "source": [
    "# position (lon, lat, psi) of the cutout center\n",
    "lon = 45. # [deg]\n",
    "lat = 45. # [deg]\n",
    "pos = np.array([lon, lat, 0.]) \n",
    "\n",
    "# map side in lon and lat\n",
    "dLon = 10.# [deg]\n",
    "dLat = 10.# [deg]\n",
    "lonRange = np.array([-dLon/2., dLon/2.]) # [deg]\n",
    "latRange = np.array([-dLat/2., dLat/2.]) # [deg]\n",
    "pixRes = 0.5/60.  #0.5 / 60.  # [arcmin] to [deg]\n",
    "\n",
    "# number of pixels on the side\n",
    "xSize = np.int(np.ceil(dLon / pixRes))\n",
    "ySize = np.int(np.ceil(dLat / pixRes))\n",
    "\n",
    "baseMap = FlatMap(nX=xSize, nY=ySize, sizeX=dLon*np.pi/180., sizeY=dLat*np.pi/180.)\n",
    "\n",
    "print xSize, \"pixel on the side,\", dLon, \"degrees on the side\"\n",
    "print \"resolution is\", dLon/xSize*60., \"arcmin\""
   ]
  },
  {
   "cell_type": "code",
   "execution_count": 36,
   "metadata": {},
   "outputs": [
    {
     "data": {
      "image/png": "[encoded data removed]",
      "text/plain": [
       "<Figure size 612x388.8 with 2 Axes>"
      ]
     },
     "metadata": {
      "needs_background": "light"
     },
     "output_type": "display_data"
    },
    {
     "data": {
      "image/png": "[encoded data removed]",
      "text/plain": [
       "<Figure size 612x388.8 with 2 Axes>"
      ]
     },
     "metadata": {
      "needs_background": "light"
     },
     "output_type": "display_data"
    },
    {
     "data": {
      "image/png": "[encoded data removed]",
      "text/plain": [
       "<Figure size 612x388.8 with 2 Axes>"
      ]
     },
     "metadata": {
      "needs_background": "light"
     },
     "output_type": "display_data"
    }
   ],
   "source": [
    "# Official T map\n",
    "# cutTMap = hp.visufunc.cartview(tMap, rot=pos, lonra=lonRange, latra=latRange, xsize=xSize, ysize=ySize, return_projected_map=True, norm='hist')\n",
    "# cutSehgalTMap = hp.visufunc.cartview(sehgalTMap, rot=pos, lonra=lonRange, latra=latRange, xsize=xSize, ysize=ySize, return_projected_map=True, norm='hist')\n",
    "# T map\n",
    "cutTMap = hp.visufunc.cartview(tMap, rot=pos, lonra=lonRange, latra=latRange, xsize=xSize, ysize=ySize, return_projected_map=True, norm='hist')\n",
    "# Q map\n",
    "cutQMap = hp.visufunc.cartview(qMap, rot=pos, lonra=lonRange, latra=latRange, xsize=xSize, ysize=ySize, return_projected_map=True, norm='hist')\n",
    "# U map\n",
    "cutUMap = hp.visufunc.cartview(uMap, rot=pos, lonra=lonRange, latra=latRange, xsize=xSize, ysize=ySize, return_projected_map=True, norm='hist')\n",
    "# kappa map\n",
    "# cutKappaMap = hp.visufunc.cartview(kappaMap, rot=pos, lonra=lonRange, latra=latRange, xsize=xSize, ysize=ySize, return_projected_map=True, norm='hist')"
   ]
  },
  {
   "cell_type": "markdown",
   "metadata": {},
   "source": [
    "## Test: mask the point sources above 15mJy, and compare power to Dunkley+13"
   ]
  },
  {
   "cell_type": "code",
   "execution_count": 37,
   "metadata": {},
   "outputs": [],
   "source": [
    "# use the flux cut from Dunkley+13, to match power spectra\n",
    "fluxCut = 0.015  # in [Jy]\n",
    "\n",
    "# convert to muKcmb\n",
    "fluxCut *= 1.e-26  # convert from [Jy] to flux per unit freq = [W/m^2/Hz]\n",
    "fluxCut /= cmb.dBdT(148.e9, cmb.Tcmb)  # convert from flux per unit freq = [W/m^2/Hz] to [Kcmb*sr]\n",
    "fluxCut *= 1.e6  # convert from [Kcmb*sr] to [muKcmb*sr]"
   ]
  },
  {
   "cell_type": "code",
   "execution_count": 39,
   "metadata": {
    "scrolled": true
   },
   "outputs": [
    {
     "name": "stderr",
     "output_type": "stream",
     "text": [
      "basic_functions.py:228: RuntimeWarning: divide by zero encountered in double_scalars\n",
      "  try: return x/y\n",
      "cmb.py:163: RuntimeWarning: invalid value encountered in double_scalars\n",
      "  result = a_CIBP * (l/3000.)**2 * self.fdl_to_cl(l)\n",
      "cmb.py:175: RuntimeWarning: invalid value encountered in double_scalars\n",
      "  result = a_CIBC * (l/3000.)**(2-n) * self.fdl_to_cl(l)\n",
      "cmb.py:191: RuntimeWarning: invalid value encountered in double_scalars\n",
      "  result = a_s * (l/3000.)**2* self.fdl_to_cl(l)\n"
     ]
    }
   ],
   "source": [
    "cutTMapFourier = baseMap.fourier(cutTMap)\n",
    "\n",
    "maskPatchRadius = 3. * np.pi/(180.*60.)   # [arcmin] to [rad]\n",
    "psMask = baseMap.pointSourceMaskMatchedFilterIsotropic(cmb.ftotalTT, fluxCut, fprof=None, dataFourier=cutTMapFourier, maskPatchRadius=maskPatchRadius, test=False)"
   ]
  },
  {
   "cell_type": "code",
   "execution_count": 50,
   "metadata": {},
   "outputs": [
    {
     "data": {
      "image/png": "[encoded data removed]",
      "text/plain": [
       "<Figure size 432x288 with 2 Axes>"
      ]
     },
     "metadata": {
      "needs_background": "light"
     },
     "output_type": "display_data"
    }
   ],
   "source": [
    "baseMap.plot(psMask)"
   ]
  },
  {
   "cell_type": "markdown",
   "metadata": {},
   "source": [
    "Power spectrum before masking: much higher than Dunkley+13"
   ]
  },
  {
   "cell_type": "code",
   "execution_count": 51,
   "metadata": {},
   "outputs": [
    {
     "data": {
      "image/png": "[encoded data removed]",
      "text/plain": [
       "<Figure size 432x288 with 1 Axes>"
      ]
     },
     "metadata": {
      "needs_background": "light"
     },
     "output_type": "display_data"
    }
   ],
   "source": [
    "lCen, Cl, sCl = baseMap.powerSpectrum(cutTMapFourier, theory=[cmb.fradioPoisson], plot=True)"
   ]
  },
  {
   "cell_type": "markdown",
   "metadata": {},
   "source": [
    "Power spectrum after masking: close enough to Dunkley+13.\n",
    "Or zero if all the point sources have been masked"
   ]
  },
  {
   "cell_type": "code",
   "execution_count": 54,
   "metadata": {},
   "outputs": [
    {
     "data": {
      "image/png": "[encoded data removed]",
      "text/plain": [
       "<Figure size 432x288 with 1 Axes>"
      ]
     },
     "metadata": {
      "needs_background": "light"
     },
     "output_type": "display_data"
    }
   ],
   "source": [
    "maskedTMapFourier = baseMap.fourier(cutTMap*psMask)\n",
    "lCen, Cl, sCl = baseMap.powerSpectrum(maskedTMapFourier, theory=[cmb.fCIB], plot=True)"
   ]
  },
  {
   "cell_type": "markdown",
   "metadata": {},
   "source": [
    "# Use point source mask relevant for CMB S4"
   ]
  },
  {
   "cell_type": "code",
   "execution_count": 55,
   "metadata": {
    "scrolled": true
   },
   "outputs": [
    {
     "name": "stdout",
     "output_type": "stream",
     "text": [
      "the 5 sigma flux cut is 5.5604680018442376e-06 muK*sr\n"
     ]
    }
   ],
   "source": [
    "# experimental specs for CMB S4\n",
    "cmb = CMB(beam=1., noise=1., nu1=148.e9, nu2=148.e9, lMin=30., lMaxT=1.e5, lMaxP=1.e5, fg=True, atm=False, name=None)\n",
    "\n",
    "# find the 5 sigma point source detection threshold [muK*sr]\n",
    "fluxCut = 5. * cmb.fsigmaMatchedFilter(fprofile=None, ftotalTT=cmb.ftotalTT, lMin=30., lMax=1.e4)\n",
    "\n",
    "print \"the 5 sigma flux cut is\", fluxCut, \"muK*sr\""
   ]
  },
  {
   "cell_type": "markdown",
   "metadata": {},
   "source": [
    "Round it off to get a 2mJy point source cut"
   ]
  },
  {
   "cell_type": "code",
   "execution_count": 56,
   "metadata": {},
   "outputs": [
    {
     "name": "stdout",
     "output_type": "stream",
     "text": [
      "ie 2.000556172398003 mJy\n"
     ]
    }
   ],
   "source": [
    "# rounded off flux cut to get 2mJy\n",
    "fluxCut = 5.1e-6\n",
    "# convert to mJy to check\n",
    "fluxCutmJy = fluxCut * 1.e-6  # convert from [muKcmb*sr] to [Kcmb*sr]\n",
    "fluxCutmJy *= cmb.dBdT(148.e9, cmb.Tcmb)  # convert from [Kcmb*sr] to flux per unit freq = [W/m^2/Hz]\n",
    "fluxCutmJy /= 1.e-26  # convert from flux per unit freq = [W/m^2/Hz] to [Jy]\n",
    "fluxCutmJy *= 1.e3  # convert from [Jy] to [mJy]\n",
    "print \"ie\", fluxCutmJy, \"mJy\"\n",
    "\n",
    "# select patch radius around point sources\n",
    "maskPatchRadius = 3. * np.pi/(180.*60.)   # [arcmin] to [rad]\n",
    "\n",
    "# generate point source mask \n",
    "psMask = baseMap.pointSourceMaskMatchedFilterIsotropic(cmb.ftotalTT, fluxCut, fprof=None, dataFourier=cutTMapFourier, maskPatchRadius=maskPatchRadius, test=False)"
   ]
  },
  {
   "cell_type": "code",
   "execution_count": 57,
   "metadata": {},
   "outputs": [
    {
     "data": {
      "image/png": "[encoded data removed]",
      "text/plain": [
       "<Figure size 432x288 with 2 Axes>"
      ]
     },
     "metadata": {
      "needs_background": "light"
     },
     "output_type": "display_data"
    }
   ],
   "source": [
    "baseMap.plot(psMask)"
   ]
  },
  {
   "cell_type": "markdown",
   "metadata": {},
   "source": [
    "# Save all cutout maps and mask"
   ]
  },
  {
   "cell_type": "code",
   "execution_count": 58,
   "metadata": {},
   "outputs": [],
   "source": [
    "# np.savetxt(\"./output/sehgal_maps/cutouts/ir_\"+catalogName+\"_x_rad.txt\", baseMap.x)\n",
    "# np.savetxt(\"./output/sehgal_maps/cutouts/ir_\"+catalogName+\"_y_rad.txt\", baseMap.y)\n",
    "# np.savetxt(\"./output/sehgal_maps/cutouts/ir_\"+catalogName+\"_sehgal_T.txt\", cutTMap)\n",
    "# np.savetxt(\"./output/sehgal_maps/cutouts/ir_\"+catalogName+\"_sehgal_Q.txt\", cutQMap)\n",
    "# np.savetxt(\"./output/sehgal_maps/cutouts/ir_\"+catalogName+\"_sehgal_U.txt\", cutUMap)\n",
    "# np.savetxt(\"./output/sehgal_maps/cutouts/ir_\"+catalogName+\"_mask_2mJy_T.txt\", psMask)"
   ]
  },
  {
   "cell_type": "markdown",
   "metadata": {},
   "source": [
    "# Extract as many square cutouts as possible"
   ]
  },
  {
   "cell_type": "code",
   "execution_count": 42,
   "metadata": {},
   "outputs": [],
   "source": [
    "# cutout dimensions\n",
    "# map side in lon and lat\n",
    "dLon = 10.# [deg]\n",
    "dLat = 10.# [deg]\n",
    "lonRange = np.array([-dLon/2., dLon/2.]) # [deg]\n",
    "latRange = np.array([-dLat/2., dLat/2.]) # [deg]\n",
    "pixRes = 0.5/60.  #0.5 / 60.  # [arcmin] to [deg]\n",
    "# number of pixels on the side\n",
    "xSize = np.int(np.ceil(dLon / pixRes))\n",
    "ySize = np.int(np.ceil(dLat / pixRes))\n",
    "\n",
    "baseMap = FlatMap(nX=xSize, nY=ySize, sizeX=dLon*np.pi/180., sizeY=dLat*np.pi/180.)\n",
    "\n",
    "# create an empty map, to check footprints\n",
    "nSide = 256\n",
    "hMap = np.zeros(hp.nside2npix(nSide))\n",
    "\n",
    "\n",
    "# offsets in lon and lat to start the cutouts\n",
    "latStart = 0. #1.\n",
    "lonStart = 0. #1.\n",
    "# space between cutouts, to avoid overlap\n",
    "space = 0.5 # [deg]"
   ]
  },
  {
   "cell_type": "code",
   "execution_count": null,
   "metadata": {},
   "outputs": [
    {
     "name": "stdout",
     "output_type": "stream",
     "text": [
      "ie 5.001390430995008 mJy\n",
      "ie 5.001390430995008 mJy\n",
      "ie 5.001390430995008 mJy\n",
      "ie 5.001390430995008 mJy\n"
     ]
    },
    {
     "name": "stderr",
     "output_type": "stream",
     "text": [
      "/global/homes/e/eschaan/.conda/envs/namaster2.7/lib/python2.7/site-packages/matplotlib/pyplot.py:522: RuntimeWarning: More than 20 figures have been opened. Figures created through the pyplot interface (`matplotlib.pyplot.figure`) are retained until explicitly closed and may consume too much memory. (To control this warning, see the rcParam `figure.max_open_warning`).\n",
      "  max_open_warning, RuntimeWarning)\n"
     ]
    },
    {
     "name": "stdout",
     "output_type": "stream",
     "text": [
      "ie 5.001390430995008 mJy\n",
      "ie 5.001390430995008 mJy\n",
      "ie 5.001390430995008 mJy\n",
      "ie 5.001390430995008 mJy\n",
      "ie 5.001390430995008 mJy\n",
      "ie 5.001390430995008 mJy\n",
      "ie 5.001390430995008 mJy\n",
      "ie 5.001390430995008 mJy\n",
      "ie 5.001390430995008 mJy\n",
      "ie 5.001390430995008 mJy\n",
      "ie 5.001390430995008 mJy\n",
      "ie 5.001390430995008 mJy\n",
      "ie 5.001390430995008 mJy\n",
      "ie 5.001390430995008 mJy\n",
      "ie 5.001390430995008 mJy\n",
      "ie 5.001390430995008 mJy\n",
      "ie 5.001390430995008 mJy\n",
      "ie 5.001390430995008 mJy\n",
      "ie 5.001390430995008 mJy\n",
      "ie 5.001390430995008 mJy\n",
      "ie 5.001390430995008 mJy\n",
      "ie 5.001390430995008 mJy\n",
      "ie 5.001390430995008 mJy\n",
      "ie 5.001390430995008 mJy\n",
      "ie 5.001390430995008 mJy\n",
      "ie 5.001390430995008 mJy\n",
      "ie 5.001390430995008 mJy\n",
      "ie 5.001390430995008 mJy\n",
      "ie 5.001390430995008 mJy\n",
      "ie 5.001390430995008 mJy\n",
      "ie 5.001390430995008 mJy\n",
      "ie 5.001390430995008 mJy\n",
      "ie 5.001390430995008 mJy\n",
      "ie 5.001390430995008 mJy\n",
      "ie 5.001390430995008 mJy\n"
     ]
    }
   ],
   "source": [
    "# latitudes of centers of cutouts\n",
    "nPatches = 0\n",
    "LatCenter = np.arange(latStart + dLat/2., 90., dLat + space)\n",
    "for latCenter in LatCenter:\n",
    "   latUpper = latCenter + dLat/2.\n",
    "   latLower = latCenter - dLat/2.\n",
    "   \n",
    "   dLonCenter = dLon / np.cos(latCenter * np.pi/180.)\n",
    "   dLonUpper = dLon / np.cos(latUpper * np.pi/180.)\n",
    "   dLonLower = dLon / np.cos(latLower * np.pi/180.)\n",
    "   LonCenter = np.arange(lonStart + dLonUpper/2., 90., dLonUpper + space)\n",
    "   \n",
    "   for lonCenter in LonCenter:\n",
    "      \n",
    "      # polygon edges\n",
    "      latEdges = np.array([latUpper, latLower, latLower, latUpper])\n",
    "      lonEdges = np.array([lonCenter-dLonUpper/2., lonCenter-dLonLower/2., lonCenter+dLonLower/2., lonCenter+dLonUpper/2.])\n",
    "      \n",
    "      # check that the cutout is entirely within the quadrant\n",
    "      patchFits = np.sum(latEdges<0.) + np.sum(latEdges>90.) + np.sum(lonEdges<0.) + np.sum(lonEdges>90.)\n",
    "      patchFits = patchFits==0.\n",
    "      \n",
    "      # if it fits\n",
    "      if patchFits:\n",
    "         nPatches += 1\n",
    "         # plot the footprint\n",
    "         xyz = hp.ang2vec(lonEdges, latEdges, lonlat=True)\n",
    "         I = hp.query_polygon(nSide, xyz)\n",
    "         hMap[I] += 1.\n",
    "         \n",
    "         # extract the cutouts\n",
    "         pos = np.array([lonCenter, latCenter, 0.])\n",
    "         # Official T map\n",
    "#          cutSehgalTMap = hp.visufunc.cartview(sehgalTMap, rot=pos, lonra=lonRange, latra=latRange, xsize=xSize, ysize=ySize, return_projected_map=True, norm='hist')\n",
    "#          plt.clf()\n",
    "         # T map\n",
    "         cutTMap = hp.visufunc.cartview(tMap, rot=pos, lonra=lonRange, latra=latRange, xsize=xSize, ysize=ySize, return_projected_map=True, norm='hist')\n",
    "         plt.clf()\n",
    "         # Q map\n",
    "         cutQMap = hp.visufunc.cartview(qMap, rot=pos, lonra=lonRange, latra=latRange, xsize=xSize, ysize=ySize, return_projected_map=True, norm='hist')\n",
    "         plt.clf()\n",
    "         # U map\n",
    "         cutUMap = hp.visufunc.cartview(uMap, rot=pos, lonra=lonRange, latra=latRange, xsize=xSize, ysize=ySize, return_projected_map=True, norm='hist')\n",
    "         plt.clf()\n",
    "         # kappa map\n",
    "#          cutKappaMap = hp.visufunc.cartview(kappaMap, rot=pos, lonra=lonRange, latra=latRange, xsize=xSize, ysize=ySize, return_projected_map=True, norm='hist')\n",
    "#          plt.clf()\n",
    "\n",
    "         # generate point source mask\n",
    "#          fluxCut = 5.1e-6  # for 2mJy\n",
    "         fluxCut = 12.75e-6  # for 5mJy\n",
    "         # convert to mJy to check\n",
    "         fluxCutmJy = fluxCut * 1.e-6  # convert from [muKcmb*sr] to [Kcmb*sr]\n",
    "         fluxCutmJy *= cmb.dBdT(148.e9, cmb.Tcmb)  # convert from [Kcmb*sr] to flux per unit freq = [W/m^2/Hz]\n",
    "         fluxCutmJy /= 1.e-26  # convert from flux per unit freq = [W/m^2/Hz] to [Jy]\n",
    "         fluxCutmJy *= 1.e3  # convert from [Jy] to [mJy]\n",
    "         print \"ie\", fluxCutmJy, \"mJy\"\n",
    "         #\n",
    "         # select patch radius around point sources\n",
    "         maskPatchRadius = 3. * np.pi/(180.*60.)   # [arcmin] to [rad]\n",
    "         #\n",
    "         # generate point source mask \n",
    "         cutTMapFourier = baseMap.fourier(cutTMap)\n",
    "         psMask = baseMap.pointSourceMaskMatchedFilterIsotropic(cmb.ftotalTT, fluxCut, fprof=None, dataFourier=cutTMapFourier, maskPatchRadius=maskPatchRadius, test=False)    \n",
    "            \n",
    "         # save the cutouts\n",
    "#          np.savetxt(\"./output/sehgal_maps/cutouts/ps_official_sehgal_T_patch\"+str(nPatches)+\".txt\", cutSehgalTMap)\n",
    "         np.savetxt(\"./output/sehgal_maps/cutouts/ir_\"+catalogName+\"_sehgal_T_patch\"+str(nPatches)+\".txt\", cutTMap)\n",
    "         np.savetxt(\"./output/sehgal_maps/cutouts/ir_\"+catalogName+\"_sehgal_Q_patch\"+str(nPatches)+\".txt\", cutQMap)\n",
    "         np.savetxt(\"./output/sehgal_maps/cutouts/ir_\"+catalogName+\"_sehgal_U_patch\"+str(nPatches)+\".txt\", cutUMap)\n",
    "#          np.savetxt(\"./output/sehgal_maps/cutouts/kappa_sehgal_patch\"+str(nPatches)+\".txt\", cutKappaMap)\n",
    "         np.savetxt(\"./output/sehgal_maps/cutouts/ir_\"+catalogName+\"_mask_\"+str(np.int(round(fluxCutmJy)))+\"mJy_T_patch\"+str(nPatches)+\".txt\", psMask)\n",
    "         \n",
    "print \"Extracted \"+str(nPatches)+\" cutouts\"\n",
    "\n",
    "hp.mollview(hMap)\n",
    "plt.show()"
   ]
  },
  {
   "cell_type": "code",
   "execution_count": null,
   "metadata": {},
   "outputs": [],
   "source": []
  }
 ],
 "metadata": {
  "kernelspec": {
   "display_name": "Namaster2.7",
   "language": "python",
   "name": "namaster2.7"
  },
  "language_info": {
   "codemirror_mode": {
    "name": "ipython",
    "version": 2
   },
   "file_extension": ".py",
   "mimetype": "text/x-python",
   "name": "python",
   "nbconvert_exporter": "python",
   "pygments_lexer": "ipython2",
   "version": "2.7.16"
  }
 },
 "nbformat": 4,
 "nbformat_minor": 4
}
